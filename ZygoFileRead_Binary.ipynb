{
 "cells": [
  {
   "cell_type": "code",
   "execution_count": 1,
   "metadata": {},
   "outputs": [],
   "source": [
    "import numpy as np\n",
    "import matplotlib.pyplot as plt"
   ]
  },
  {
   "cell_type": "code",
   "execution_count": 144,
   "metadata": {
    "scrolled": true
   },
   "outputs": [],
   "source": [
    "#first step, attempt to read in files as .dat (possible need to change format)\n",
    "#initially using a generator to \"store\" the lines in the file - simply easier to iterate one at a time with next()\n",
    "f = open(\"70asuprasil3001.dat\", \"rb\")  # - use \"rb\" flag to denote binary data will be read\n",
    "# lines = (line for line in f.read().strip())\n",
    "\n",
    "#without generator:\n",
    "# lines = f.read().decode(errors=\"ignore\")\n",
    "# lines = f.read()\n",
    "# lines\n",
    "\n",
    "# lines = [line for line in f]\n",
    "# # len(lines)\n",
    "# type(lines[0])"
   ]
  },
  {
   "cell_type": "code",
   "execution_count": 89,
   "metadata": {},
   "outputs": [
    {
     "ename": "TypeError",
     "evalue": "'str' object is not an iterator",
     "output_type": "error",
     "traceback": [
      "\u001b[0;31m---------------------------------------------------------------------------\u001b[0m",
      "\u001b[0;31mTypeError\u001b[0m                                 Traceback (most recent call last)",
      "\u001b[0;32m<ipython-input-89-2e01bf9a9ff6>\u001b[0m in \u001b[0;36m<module>\u001b[0;34m\u001b[0m\n\u001b[0;32m----> 1\u001b[0;31m \u001b[0mnext\u001b[0m\u001b[0;34m(\u001b[0m\u001b[0mlines\u001b[0m\u001b[0;34m)\u001b[0m\u001b[0;34m\u001b[0m\u001b[0;34m\u001b[0m\u001b[0m\n\u001b[0m",
      "\u001b[0;31mTypeError\u001b[0m: 'str' object is not an iterator"
     ]
    }
   ],
   "source": [
    "next(lines)"
   ]
  },
  {
   "cell_type": "code",
   "execution_count": 41,
   "metadata": {},
   "outputs": [
    {
     "data": {
      "text/plain": [
       "2636"
      ]
     },
     "execution_count": 41,
     "metadata": {},
     "output_type": "execute_result"
    }
   ],
   "source": [
    "i = (1 for _ in f)\n",
    "sum(i)"
   ]
  },
  {
   "cell_type": "code",
   "execution_count": 5,
   "metadata": {},
   "outputs": [
    {
     "data": {
      "text/plain": [
       "1441226"
      ]
     },
     "execution_count": 5,
     "metadata": {},
     "output_type": "execute_result"
    }
   ],
   "source": [
    "i = [1 for _ in lines]\n",
    "sum(i)"
   ]
  },
  {
   "cell_type": "code",
   "execution_count": 285,
   "metadata": {},
   "outputs": [],
   "source": [
    "#direct from numpy?\n",
    "#isn't giving the expected results - but does contain numeric data as floats\n",
    "#size does not match the pure file reading\n",
    "#might be skipping header and then taking data?\n",
    "y = np.fromfile(\"70asuprasil3001.dat\")\n",
    "# len(y)"
   ]
  },
  {
   "cell_type": "code",
   "execution_count": 2,
   "metadata": {},
   "outputs": [],
   "source": [
    "f = open(\"70asuprasil3001.dat\", \"rb\")\n",
    "arr = bytearray(f.read())\n",
    "# arr = np.array(arr, dtype=\"\")"
   ]
  },
  {
   "cell_type": "code",
   "execution_count": 64,
   "metadata": {},
   "outputs": [
    {
     "data": {
      "text/plain": [
       "255"
      ]
     },
     "execution_count": 64,
     "metadata": {},
     "output_type": "execute_result"
    }
   ],
   "source": [
    "arr.decode(encoding=\"iso-8859-1\")\n",
    "max(arr)"
   ]
  },
  {
   "cell_type": "code",
   "execution_count": 128,
   "metadata": {},
   "outputs": [
    {
     "name": "stdout",
     "output_type": "stream",
     "text": [
      "\n",
      "\n",
      "e\n"
     ]
    },
    {
     "data": {
      "text/plain": [
       "array(['', '\\x88', 'e'], dtype='<U1')"
      ]
     },
     "execution_count": 128,
     "metadata": {},
     "output_type": "execute_result"
    }
   ],
   "source": [
    "#if using a bytearray, can see the ASCII code values and convert using chr()\n",
    "#printing individual items of string gives the ascii number\n",
    "#printing individual items of s gives the symbol \n",
    "string = b\"\\x00\\x88e\"\n",
    "string = bytearray(string)\n",
    "\n",
    "s = np.array([chr(_) for _ in string])\n",
    "for elt in s:\n",
    "    print(elt)\n",
    "s"
   ]
  },
  {
   "cell_type": "code",
   "execution_count": 149,
   "metadata": {},
   "outputs": [
    {
     "data": {
      "text/plain": [
       "1100101"
      ]
     },
     "execution_count": 149,
     "metadata": {},
     "output_type": "execute_result"
    }
   ],
   "source": [
    "a = int(bin(string[2])[2:])\n",
    "int(a)"
   ]
  }
 ],
 "metadata": {
  "kernelspec": {
   "display_name": "GravWaves",
   "language": "python",
   "name": "gravwaves"
  },
  "language_info": {
   "codemirror_mode": {
    "name": "ipython",
    "version": 3
   },
   "file_extension": ".py",
   "mimetype": "text/x-python",
   "name": "python",
   "nbconvert_exporter": "python",
   "pygments_lexer": "ipython3",
   "version": "3.6.8"
  }
 },
 "nbformat": 4,
 "nbformat_minor": 4
}
