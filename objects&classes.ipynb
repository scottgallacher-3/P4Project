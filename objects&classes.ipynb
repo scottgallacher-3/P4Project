{
 "cells": [
  {
   "cell_type": "code",
   "execution_count": 1,
   "metadata": {},
   "outputs": [],
   "source": [
    "import numpy as np\n",
    "from scipy.spatial.transform import Rotation as Rot\n",
    "import scipy.optimize\n",
    "import scipy.ndimage\n",
    "import copy\n",
    "import matplotlib.pyplot as plt\n",
    "import matplotlib.cm as cm\n",
    "# %matplotlib notebook"
   ]
  },
  {
   "cell_type": "code",
   "execution_count": 2,
   "metadata": {},
   "outputs": [],
   "source": [
    "#try to package variables/functions into objects\n",
    "#creation of class(es?) to have stored variables and methods specific to the needs of each map\n",
    "#then create multiple instances for different maps, seperated within workspace"
   ]
  },
  {
   "cell_type": "code",
   "execution_count": 3,
   "metadata": {},
   "outputs": [],
   "source": [
    "#file reading function firstly, to be attached to class as method probably (create map from filename argument only)\n",
    "def zygoread(filename):\n",
    "    with open(filename, \"r\") as f:\n",
    "        fstrings = f.read().split(\"\\\"\")\n",
    "        \n",
    "        fields = []\n",
    "        data = []\n",
    "        section = 0\n",
    "        for elt in fstrings:\n",
    "            if \"#\" in elt:  # - use this test to show end of header section, then switch to next section\n",
    "                section += 1\n",
    "                pass\n",
    "            \n",
    "            if section == 0:  # - processing header section\n",
    "                #multiple fields are stored within single strings, so need to split by newline to narrow down\n",
    "                #numbers stored within strings can be extracted afterwards\n",
    "                #excess artifacts can be filtered out using if (True) test on elements of split string\n",
    "                #fails on empty string, thus keeping only the relevant fields\n",
    "                elt = elt.split(\"\\n\")\n",
    "                values = [_ for _ in elt if _]  # - filter bad elements (e.g. \"\" which have no data and return False)\n",
    "                #test for non-empty lists (indicates no data was found in values list)\n",
    "                if values:\n",
    "                    fields.append(values)\n",
    "            \n",
    "            elif section == 1:  # - move to data extraction for intensities and phases\n",
    "                #the initial split left the both datasets in a single string - separate by \"#\"\n",
    "                #split string containing a dataset then iterate through the resulting lines of 10\n",
    "                #append all values to a 'data' array, filter as before\n",
    "                #splitting by \"#\" will result in 2 list stored in the 'data' list\n",
    "                #i.e. can extract: intensities = data[0], phases = data[1]\n",
    "                for line in elt.split(\"#\"):\n",
    "                    values = [_ for _ in line.split() if _]\n",
    "                    if values:\n",
    "                        data.append(values)\n",
    "                \n",
    "        \n",
    "        \n",
    "        \n",
    "    return fields, data"
   ]
  },
  {
   "cell_type": "code",
   "execution_count": 4,
   "metadata": {},
   "outputs": [],
   "source": [
    "#want to add rotations as method to zygomap class\n",
    "#or maybe better to keep as external function, acting on a map object\n",
    "#could either be general rotation function, then called by optimisation function\n",
    "#or just retain the optimisation/tilt removal in one function\n",
    "\n",
    "#general rotations"
   ]
  },
  {
   "cell_type": "code",
   "execution_count": 5,
   "metadata": {},
   "outputs": [],
   "source": [
    "#specific rotation in x,y (removal of tilts)\n",
    "#as external function (since moved internal)\n",
    "def testf(*args):\n",
    "    angx, angy = args[0]  # - format of scipy minimize requires a single 1st argument to alter - can have list with multiple\n",
    "    array = args[1]  # - the simple 2D array of height values\n",
    "    \n",
    "    dims = array.shape\n",
    "    x,y = np.indices(dims)  # - create x,y grid values from the array position index (can scale distances later)\n",
    "    \n",
    "    #make array of position vectors in Nx3 format: i.e. [x,y,height] as a single element for one point in 3D\n",
    "    #use dstack to arrange the separate array values down each column, then reshape to Nx3 array\n",
    "    vectarray = np.dstack([x,y,array])\n",
    "    vectarray = vectarray.reshape(int(vectarray.size/3), 3)\n",
    "    \n",
    "    \n",
    "    #define rotations around x and y axes respectively and combine via * operation\n",
    "    rx = Rot.from_rotvec(angx*np.array([1,0,0]))\n",
    "    ry = Rot.from_rotvec(angy*np.array([0,1,0]))\n",
    "    r = rx*ry\n",
    "    \n",
    "    #apply overall rotation to entire vector array (rotates each vector individually)\n",
    "    #extract back individual columns and store them in original array dimensions\n",
    "    newarray = r.apply(vectarray)\n",
    "#     newx = newarray[:,0].reshape(dims)\n",
    "#     newy = newarray[:,1].reshape(dims)\n",
    "    newheights = newarray[:,2].reshape(dims)\n",
    "    \n",
    "    #check the peak to valley height of rotated array\n",
    "    peakvalley = np.nanmax(newheights) - np.nanmin(newheights)    \n",
    "    \n",
    "    return peakvalley"
   ]
  },
  {
   "cell_type": "code",
   "execution_count": 6,
   "metadata": {},
   "outputs": [],
   "source": [
    "def crop(radius):\n",
    "    #allow user to crop to extract only data within some radius\n",
    "    #most needed to avoid large edge effects (discontinuities)\n",
    "    #check for valid (not nan) values in array, and find the positions in array\n",
    "    #then use the centred x and y positions to check against radius\n",
    "    #make a new cropped array where points outwith radius are set to nan\n",
    "    #and \"zoom in\" to store only the array within the valid range\n",
    "    \n",
    "    #make boolean mask to test against radius, using stored x and y (should already be centred for radial comparison)\n",
    "    outsideR = self.x**2 + self.y**2 > radius**2\n",
    "    \n",
    "    cropped = self.heights[:]  # - make copy of heights array (avoid deleting data)\n",
    "    cropped[outsideR] = np.nan\n",
    "    \n",
    "    return cropped"
   ]
  },
  {
   "cell_type": "code",
   "execution_count": 7,
   "metadata": {},
   "outputs": [],
   "source": [
    "#separate function/method needed to \"zoom\" to valid data ?\n",
    "#this would otherwise not happen if crop() not performed\n",
    "def centre():\n",
    "    return"
   ]
  },
  {
   "cell_type": "code",
   "execution_count": 8,
   "metadata": {},
   "outputs": [],
   "source": [
    "class zygomap:\n",
    "    \n",
    "    def crop(self, radius=0):\n",
    "        #allow user to crop to extract only data within some radius\n",
    "        #most needed to avoid large edge effects (discontinuities)\n",
    "        #use the (stored) centred x and y positions to check against radius\n",
    "        #make a new cropped array where points outwith radius are set to nan\n",
    "        #and \"zoom in\" to store only the array within the valid range\n",
    "        #will run during __init__(), with default radius = 0, so can avoid editing if radius is default\n",
    "        #and only do if user chose a (non-zero) radius\n",
    "        #thus only the centring of view by array slicing is performed (no need for separate functions)\n",
    "        \n",
    "        #set cropped array based on original state of heights (so not cropping multiple times and losing data)\n",
    "        cropped = self.heights0.copy()\n",
    "        \n",
    "        if radius != 0:\n",
    "            #if radius non-zero, we will be setting valid points to invalid (nan)\n",
    "            #use centred x,y grid points for full data array to make a mask for points outside radius\n",
    "            outsideR = self.x**2 + self.y**2 > radius**2\n",
    "            cropped[outsideR] = np.nan\n",
    "            \n",
    "            #could add a flag/callback here to automatically re-apply rotations after crops (otherwise advise user to do it)\n",
    "            #e.g. if callback = True -> rotateflat()\n",
    "        \n",
    "        #now find the extreme bounds of valid points and slice the array to show only the data within\n",
    "        validrows, validcols = np.where(np.isfinite(cropped))\n",
    "        lft, rgt, upp, low = np.nanmin(validcols), np.nanmax(validcols), np.nanmin(validrows), np.nanmax(validrows)\n",
    "        \n",
    "        cropped = cropped[upp:low+1, lft:rgt+1]\n",
    "        self.heights = cropped.copy()\n",
    "        \n",
    "        return cropped\n",
    "    \n",
    "    def testf(self, *args):\n",
    "        angx, angy = args[0]  # - format of scipy minimize requires a single 1st argument to alter - can have list with multiple\n",
    "        array = args[1]  # - the simple 2D array of height values\n",
    "\n",
    "        dims = array.shape\n",
    "        x,y = np.indices(dims)\n",
    "        \n",
    "        #make array of position vectors in Nx3 format: i.e. [x,y,height] as a single element for one point in 3D\n",
    "        #use dstack to arrange the separate array values down each column, then reshape to Nx3 array\n",
    "        vectarray = np.dstack([x,y,array])\n",
    "        vectarray = vectarray.reshape(int(vectarray.size/3), 3)\n",
    "\n",
    "        #define rotations around x and y axes respectively and combine via * operation\n",
    "        rx = Rot.from_rotvec(angx*np.array([1,0,0]))\n",
    "        ry = Rot.from_rotvec(angy*np.array([0,1,0]))\n",
    "        r = rx*ry\n",
    "\n",
    "        #apply overall rotation to entire vector array (rotates each vector individually)\n",
    "        #extract back individual columns and store them in original array dimensions\n",
    "        newarray = r.apply(vectarray)\n",
    "        newheights = newarray[:,2].reshape(dims)\n",
    "\n",
    "        #check the peak to valley height of rotated array\n",
    "        peakvalley = np.nanmax(newheights) - np.nanmin(newheights)    \n",
    "\n",
    "        return peakvalley\n",
    "    \n",
    "    def rotateflat(self, array):\n",
    "        #apply minimization\n",
    "        #call to external testf() (or make testf internal ?)\n",
    "        #then apply best rotation and return rotated array\n",
    "        #\"array\" argument left so normal or cropped maps can be used (i.e. self.heights vs self.cropped)\n",
    "        \n",
    "        #minimise peak to valley height for rotation angles around x-axis and y-axis\n",
    "        opts = {\"ftol\":1e-15, \"xtol\":1e-15, \"maxiter\":1000}\n",
    "        params = scipy.optimize.minimize(self.testf, x0=[0,0], args=array, tol=1e-15, method=\"Nelder-Mead\", options=opts)\n",
    "        angx,angy = params[\"x\"]  # - access the optimal angles found by the minimisation\n",
    "        \n",
    "        \n",
    "        #now apply the optimal rotations (same method as contained in test function, \"testf\")\n",
    "        dims = array.shape\n",
    "        x,y = np.indices(dims)\n",
    "        \n",
    "        vectarray = np.dstack([x,y,array])\n",
    "        vectarray = vectarray.reshape(int(vectarray.size/3), 3)\n",
    "        \n",
    "        rotx = Rot.from_rotvec(angx*np.array([1,0,0]))\n",
    "        roty = Rot.from_rotvec(angy*np.array([0,1,0]))\n",
    "        r = rotx*roty\n",
    "        \n",
    "        newarray = r.apply(vectarray)\n",
    "        newheights = newarray[:,2].reshape(dims)\n",
    "        \n",
    "        #centre in z-axis\n",
    "        newheights -= np.nanmean(newheights)\n",
    "        \n",
    "        self.peak, self.valley = np.nanmax(newheights), np.nanmin(newheights)\n",
    "        self.peakvalley = self.peak - self.valley\n",
    "        self.rmsHeight = np.sqrt(np.nanmean(newheights**2))\n",
    "        \n",
    "        #update the stored heights array\n",
    "        self.heights = newheights.copy()\n",
    "        \n",
    "        return newheights\n",
    "    \n",
    "    \n",
    "    def __init__(self, filename=None, array=None):\n",
    "        if filename is not None:\n",
    "            self.filename = filename\n",
    "            #get header and data from file by user-defined function \"zygoread\" (change to class method ?)\n",
    "            fields, data = zygoread(filename)\n",
    "\n",
    "            #header extraction\n",
    "            self.stringConstant = fields[0][0]\n",
    "            chunk = fields[0][1].split()\n",
    "            self.softwareType, self.majorVersion, self.minorVersion, self.bugVers = [int(n) for n in chunk]\n",
    "\n",
    "            self.softwareDate = fields[1][0]\n",
    "\n",
    "            chunk = fields[2][0].split()\n",
    "            self.intensOriginX, self.intensOriginY, self.intensWidth, self.intensHeight, self.Nbuckets, self.intensRange = [int(n) for n in chunk]\n",
    "\n",
    "            chunk = fields[2][1].split()\n",
    "            self.phaseOriginX, self.phaseOriginY, self.phaseWidth, self.phaseHeight = [int(n) for n in chunk]\n",
    "\n",
    "            self.comment = fields[3][0]\n",
    "\n",
    "            self.partSerNum = fields[4][0]\n",
    "            self.partNum = fields[5][0]\n",
    "\n",
    "            chunk = fields[6][0].split()\n",
    "            self.source = int(chunk.pop(0))\n",
    "            self.timeStamp = int(chunk.pop(-1))\n",
    "            self.intfScaleFactor, self.wavelengthIn, self.numericAperture, self.obliquityFactor, self.magnification, self.cameraRes = [float(n) for n in chunk]\n",
    "\n",
    "            chunk = fields[6][1].split()\n",
    "            self.cameraWidth, self.cameraHeight, self.systemType, self.systemBoard, self.systemSerial, self.instrumentId = [int(n) for n in chunk]\n",
    "\n",
    "            self.objectiveName = fields[7][0]\n",
    "\n",
    "            #want both index 6 & 7 seperately, as they need to be floats\n",
    "            #convert the rest to int as before\n",
    "            chunk = fields[8][0].split()  # - looks messier but should use this throughout to reduce repeated splitting\n",
    "            self.targetRange = float(chunk.pop(6))  # - remove item at index 6 and returns it (and modifies original list)\n",
    "            self.lightLevel = float(chunk.pop(6))  # - do it again as the index 7 is now at index 6 in the modified list\n",
    "            self.acquireMode, self.intensAvgs, self.PZTCal, self.PZTGain, self.PZTGainTolerance, self.AGC, self.minMod, self.minModPts = [int(n) for n in chunk]\n",
    "\n",
    "            chunk = fields[8][1].split()\n",
    "            self.disconFilter = float(chunk.pop(4))\n",
    "            self.phaseRes, self.phaseAvgs, self.minimumAreaSize, self.disconAction, self.connectionOrder, self.removeTiltBias, self.dataSign, self.codeVType = [int(n) for n in chunk]\n",
    "\n",
    "            self.subtractSysErr = int(fields[8][2])\n",
    "\n",
    "            self.sysErrFile = fields[9][0]\n",
    "\n",
    "            chunk = fields[10][0].split()\n",
    "            self.refractiveIndex, self.partThickness = [float(n) for n in chunk]\n",
    "\n",
    "            self.zoomDesc = fields[11][0]\n",
    "\n",
    "\n",
    "            #extract intensity and phase data as numpy arrays (reshape to header parameters)\n",
    "            self.intensitymap = np.array(data[0], dtype=float).reshape(self.intensHeight, self.intensWidth)\n",
    "            self.phasemap = np.array(data[1], dtype=float).reshape(self.phaseHeight, self.phaseWidth)\n",
    "\n",
    "            #handle invalid values (given in MetroPro manual)\n",
    "            self.intensitymap[self.intensitymap >= 64512] = np.nan\n",
    "            self.phasemap[self.phasemap >= 2147483640] = np.nan\n",
    "\n",
    "            #create arrays in terms of number of waves, and height itself (in metres)\n",
    "            #by given formula\n",
    "            if self.phaseRes == 0:\n",
    "                self.R = 4096\n",
    "            elif self.phaseRes == 1:\n",
    "                self.R = 32768\n",
    "            self.waves = self.phasemap*(self.intfScaleFactor*self.obliquityFactor)/self.R\n",
    "            self.heights = self.waves*self.wavelengthIn\n",
    "             \n",
    "        elif array is not None:\n",
    "            #allow map object to be created from scratch (i.e. make interface as a map object directly)\n",
    "            self.heights = array.copy()\n",
    "            \n",
    "        \n",
    "        ########################\n",
    "        ########################\n",
    "        ##pre-processing maps\n",
    "        \n",
    "        #grid points for use in some methods (just using array i,j position index (can scale later))\n",
    "        self.y, self.x = np.indices(self.heights.shape)\n",
    "        \n",
    "        #apply cropping first (user-defined radius ? or default ?)\n",
    "        #self.cropped = self.crop(self.heights)\n",
    "        #orderings/logistics of this needs fixed: which array is edited? when? what effect should user cropping give?\n",
    "        #create a copy of the initial height array, this allows crop to act on those values and provide new self.heights\n",
    "        #without data loss\n",
    "        self.heights0 = self.heights.copy()\n",
    "#         self.cropped = self.heights[:]  # - slice notation actually still links the variables, need np.copy() instead\n",
    "        \n",
    "        #adjust to centre of valid points (centre of surface)\n",
    "        self.validrows, self.validcols = np.where(np.isfinite(self.heights0))\n",
    "        self.centre = int(np.nanmean(self.validrows)), int(np.nanmean(self.validcols))\n",
    "        self.x -= self.centre[1]\n",
    "        self.y -= self.centre[0]\n",
    "        \n",
    "        self.crop()\n",
    "        \n",
    "        #remove tilt if present\n",
    "        self.heights = self.rotateflat(self.heights)\n",
    "        \n",
    "        \n",
    "        #moved below into rotateflat(), so they are automatically recalculated\n",
    "        #storing: self.peak, self.valley, self.peakvalley, self.rmsHeight\n",
    "        #based on the rotated map (i.e. not stored unless rotation performed (would be inaccurate but could do for completeness))\n",
    "        # - could make a separate function, to be performed at any time but is there any point ?\n",
    "        #centring in z-axis\n",
    "#         self.heights -= np.nanmean(self.heights)\n",
    "        \n",
    "        #end calculations\n",
    "#         self.peakvalley = np.nanmax(self.heights) - np.nanmin(self.heights)\n",
    "        \n",
    "        return"
   ]
  },
  {
   "cell_type": "code",
   "execution_count": 9,
   "metadata": {},
   "outputs": [
    {
     "data": {
      "text/plain": [
       "array([[nan, nan, nan, ..., nan, nan, nan],\n",
       "       [nan, nan, nan, ..., nan, nan, nan],\n",
       "       [nan, nan, nan, ..., nan, nan, nan],\n",
       "       ...,\n",
       "       [nan, nan, nan, ..., nan, nan, nan],\n",
       "       [nan, nan, nan, ..., nan, nan, nan],\n",
       "       [nan, nan, nan, ..., nan, nan, nan]])"
      ]
     },
     "execution_count": 9,
     "metadata": {},
     "output_type": "execute_result"
    }
   ],
   "source": [
    "map1 = zygomap(\"M1.txt\")\n",
    "map1.heights"
   ]
  },
  {
   "cell_type": "code",
   "execution_count": 10,
   "metadata": {},
   "outputs": [
    {
     "data": {
      "text/plain": [
       "8.654055354657178e-08"
      ]
     },
     "execution_count": 10,
     "metadata": {},
     "output_type": "execute_result"
    }
   ],
   "source": [
    "map1.peakvalley"
   ]
  },
  {
   "cell_type": "code",
   "execution_count": 11,
   "metadata": {},
   "outputs": [
    {
     "data": {
      "text/plain": [
       "array([[nan, nan, nan, ..., nan, nan, nan],\n",
       "       [nan, nan, nan, ..., nan, nan, nan],\n",
       "       [nan, nan, nan, ..., nan, nan, nan],\n",
       "       ...,\n",
       "       [nan, nan, nan, ..., nan, nan, nan],\n",
       "       [nan, nan, nan, ..., nan, nan, nan],\n",
       "       [nan, nan, nan, ..., nan, nan, nan]])"
      ]
     },
     "execution_count": 11,
     "metadata": {},
     "output_type": "execute_result"
    }
   ],
   "source": [
    "map1.heights"
   ]
  },
  {
   "cell_type": "code",
   "execution_count": 12,
   "metadata": {},
   "outputs": [
    {
     "data": {
      "text/plain": [
       "array([[nan, nan, nan, ..., nan, nan, nan],\n",
       "       [nan, nan, nan, ..., nan, nan, nan],\n",
       "       [nan, nan, nan, ..., nan, nan, nan],\n",
       "       ...,\n",
       "       [nan, nan, nan, ..., nan, nan, nan],\n",
       "       [nan, nan, nan, ..., nan, nan, nan],\n",
       "       [nan, nan, nan, ..., nan, nan, nan]])"
      ]
     },
     "execution_count": 12,
     "metadata": {},
     "output_type": "execute_result"
    }
   ],
   "source": [
    "#example crop, and rotation - below see reduced peakvalley height\n",
    "map1.crop(30)\n",
    "map1.rotateflat(map1.heights)"
   ]
  },
  {
   "cell_type": "code",
   "execution_count": 13,
   "metadata": {},
   "outputs": [
    {
     "data": {
      "text/plain": [
       "3.830410234903091e-08"
      ]
     },
     "execution_count": 13,
     "metadata": {},
     "output_type": "execute_result"
    }
   ],
   "source": [
    "map1.peakvalley"
   ]
  },
  {
   "cell_type": "code",
   "execution_count": 14,
   "metadata": {},
   "outputs": [],
   "source": [
    "# map2.peakvalley"
   ]
  },
  {
   "cell_type": "code",
   "execution_count": 15,
   "metadata": {},
   "outputs": [
    {
     "data": {
      "text/plain": [
       "8.973179748335544e-09"
      ]
     },
     "execution_count": 15,
     "metadata": {},
     "output_type": "execute_result"
    }
   ],
   "source": [
    "map1.rmsHeight"
   ]
  },
  {
   "cell_type": "markdown",
   "metadata": {},
   "source": [
    "#### map comparisons"
   ]
  },
  {
   "cell_type": "code",
   "execution_count": 16,
   "metadata": {},
   "outputs": [],
   "source": [
    "map1 = zygomap(\"M1.txt\")\n",
    "map2 = zygomap(\"M2.txt\")"
   ]
  },
  {
   "cell_type": "code",
   "execution_count": 17,
   "metadata": {},
   "outputs": [
    {
     "data": {
      "text/plain": [
       "array([[nan, nan, nan, ..., nan, nan, nan],\n",
       "       [nan, nan, nan, ..., nan, nan, nan],\n",
       "       [nan, nan, nan, ..., nan, nan, nan],\n",
       "       ...,\n",
       "       [nan, nan, nan, ..., nan, nan, nan],\n",
       "       [nan, nan, nan, ..., nan, nan, nan],\n",
       "       [nan, nan, nan, ..., nan, nan, nan]])"
      ]
     },
     "execution_count": 17,
     "metadata": {},
     "output_type": "execute_result"
    }
   ],
   "source": [
    "map1.crop(30)\n",
    "map2.crop(30)\n",
    "\n",
    "#after cropping, should re-apply rotations as removed edges likely had a large effect and need the result without them\n",
    "#could make that automatic after crop(), but for now have user do it manually\n",
    "map1.rotateflat(map1.heights)\n",
    "map2.rotateflat(map2.heights)"
   ]
  },
  {
   "cell_type": "code",
   "execution_count": 18,
   "metadata": {},
   "outputs": [
    {
     "name": "stdout",
     "output_type": "stream",
     "text": [
      "(61, 61)\n",
      "(61, 61)\n"
     ]
    }
   ],
   "source": [
    "print(map1.heights.shape)\n",
    "print(map2.heights.shape)"
   ]
  },
  {
   "cell_type": "code",
   "execution_count": 19,
   "metadata": {},
   "outputs": [],
   "source": [
    "#process: flip one map and negate its values; the interface should be the sum of the heights\n",
    "#have to protect against non-physical intersections (i.e. negative values in interface)\n",
    "#rotation around z-axis may provide different values - could possibly optimise this\n",
    "flipped = -map2.heights[::-1]  # - should ensure cropped both to same shape\n",
    "interface = map1.heights + flipped\n",
    "\n",
    "#correct for impossible intersection of maps\n",
    "#by adding back the magnitude of largest transgression (largest negative in interface)\n",
    "interface += abs(np.nanmin(interface))\n",
    "\n",
    "#centre in z-axis around mean\n",
    "interface -= np.nanmean(interface)"
   ]
  },
  {
   "cell_type": "code",
   "execution_count": 20,
   "metadata": {},
   "outputs": [],
   "source": [
    "#construct map object for interface array (for simple, direct access to attributes and processes)\n",
    "interfacemap = zygomap(array=interface)"
   ]
  },
  {
   "cell_type": "code",
   "execution_count": 21,
   "metadata": {},
   "outputs": [
    {
     "data": {
      "text/plain": [
       "6.388808111043491e-08"
      ]
     },
     "execution_count": 21,
     "metadata": {},
     "output_type": "execute_result"
    }
   ],
   "source": [
    "interfacemap.peakvalley"
   ]
  },
  {
   "cell_type": "code",
   "execution_count": 22,
   "metadata": {},
   "outputs": [
    {
     "data": {
      "image/png": "[encoded data removed]",
      "text/plain": [
       "<Figure size 432x288 with 2 Axes>"
      ]
     },
     "metadata": {
      "needs_background": "light"
     },
     "output_type": "display_data"
    }
   ],
   "source": [
    "plt.imshow(interfacemap.heights)\n",
    "plt.colorbar()\n",
    "plt.show()"
   ]
  },
  {
   "cell_type": "code",
   "execution_count": 23,
   "metadata": {},
   "outputs": [
    {
     "name": "stderr",
     "output_type": "stream",
     "text": [
      "/local/environments/gw/gw-venv/lib64/python3.6/site-packages/ipykernel_launcher.py:8: UserWarning: Z contains NaN values. This may result in rendering artifacts.\n",
      "  \n"
     ]
    },
    {
     "data": {
      "image/png": "[encoded data removed]",
      "text/plain": [
       "<Figure size 432x288 with 2 Axes>"
      ]
     },
     "metadata": {
      "needs_background": "light"
     },
     "output_type": "display_data"
    }
   ],
   "source": [
    "fig = plt.figure()\n",
    "ax = fig.add_subplot(111,projection=\"3d\")\n",
    "ax.set_zlim(interfacemap.valley, interfacemap.peak)\n",
    "\n",
    "x,y = np.indices(interfacemap.heights.shape)\n",
    "\n",
    "current_cmap = copy.copy(cm.get_cmap(\"viridis\"))\n",
    "p = ax.plot_surface(x,y,interfacemap.heights, vmin=interfacemap.valley, vmax=interfacemap.peak, antialiased=False, cmap=current_cmap)\n",
    "# p.cmap.set_bad(\"black\", alpha=1)\n",
    "\n",
    "plt.colorbar(p, pad=0.16)\n",
    "\n",
    "ax.view_init(elev=20, azim=-20)\n",
    "\n",
    "plt.show()"
   ]
  },
  {
   "cell_type": "markdown",
   "metadata": {},
   "source": [
    "#### optimise rotation for interface (around z-axis)"
   ]
  },
  {
   "cell_type": "code",
   "execution_count": 24,
   "metadata": {},
   "outputs": [],
   "source": [
    "#redefine ztestf() to work with scipy.ndimage.rotate\n",
    "\n",
    "def ztestf(*args):\n",
    "    angz = args[0][0]  # - optimize.minimize gives angz as [0.] (why?) so needs extracted from list as well as args tuple\n",
    "    lowermap, uppermap = args[1],args[2]\n",
    "\n",
    "    dims = uppermap.heights.shape\n",
    "    \n",
    "    #now get new rotated array (rotating around z/in x-y plane)\n",
    "    #using scipy.ndimage.rotate()\n",
    "    newheights = scipy.ndimage.rotate(uppermap.heights, angz, order=0, reshape=False, mode=\"constant\", cval=np.nan)\n",
    "    \n",
    "    interface = -newheights[::-1] + lowermap.heights\n",
    "    interface += abs(np.nanmin(interface))\n",
    "    interface -= np.nanmean(interface)\n",
    "    \n",
    "    peakvalley = np.nanmax(interface) - np.nanmin(interface)\n",
    "    \n",
    "    return peakvalley"
   ]
  },
  {
   "cell_type": "code",
   "execution_count": 25,
   "metadata": {},
   "outputs": [
    {
     "name": "stdout",
     "output_type": "stream",
     "text": [
      "Maps combined for optimal angle of 288.00 degrees\n",
      "        M2.txt clockwise w.r.t M1.txt\n",
      "Optimised peak-to-valley height: 3.150101061617541e-08 m\n"
     ]
    }
   ],
   "source": [
    "def combinemaps(lowermap, uppermap, optimised=True):\n",
    "    #function to combine zygomap objects\n",
    "    #flips and negates values of the 2nd map \"uppermap\"\n",
    "    #emulating the surface placed faced down on the other\n",
    "    #returns zygomap object from the combination of the lower map and the transformed uppermap\n",
    "    #where the magnitude of largest negative has been added back as an offset to prevent non-physical overlap of surfaces\n",
    "    \n",
    "    #check for equal shapes (change to automatically crop to smallest shared values)\n",
    "    lowerdims = lowermap.heights.shape\n",
    "    upperdims = uppermap.heights.shape\n",
    "    if lowerdims != upperdims:\n",
    "        \n",
    "        print(\"Maps' shapes are not equal\")\n",
    "        return\n",
    "    \n",
    "    #find optimised angle of rotation (of uppermap with respect to lowermap)\n",
    "    #minimise the peakvalley height with rotation angle around z-axis\n",
    "    #NOTE: previous rotation method not working the same for z rotations\n",
    "    #using scipy.ndimage.rotate (with order=0 to maintain array values (no spline interpolation))\n",
    "    #large angular range needed -> need brute() function to get the accurate value\n",
    "    #define angular range by ranges=(sllice(0,360),) (the slice object is preferred by brute function definition)\n",
    "    optimalangle = 0\n",
    "    if optimised == True:\n",
    "        optimalangle = scipy.optimize.brute(ztestf, ranges=((slice(0,360),)), args=(lowermap,uppermap))[0]\n",
    "    \n",
    "    #apply this angle with scipy.ndimage.rotate() to get new array of the rotated uppermap\n",
    "    #use this array directly for the interface (in place of uppermap.heights), and leave each individual map untouched\n",
    "    #should store some indicator for user of the optimal angle used (property of interfacemap ?)\n",
    "    newheights = scipy.ndimage.rotate(uppermap.heights, optimalangle, order=0, reshape=False, mode=\"constant\", cval=np.nan)\n",
    "    \n",
    "    \n",
    "\n",
    "    #flip and negate uppermap, then add to lower map for interface\n",
    "    interface = -newheights[::-1] + lowermap.heights  # - add check for equal shapes of both maps\n",
    "    interface += abs(np.nanmin(interface))  # - add back largest overlap, to leave maps just touching\n",
    "    interface -= np.nanmean(interface)  # - centre in z-axis around mean\n",
    "        \n",
    "    #construct as zygomap object\n",
    "    interfacemap = zygomap(array=interface)\n",
    "    \n",
    "    #give user some knowledge on the optimised set-up\n",
    "    #this could be moved elsewhere possibly for better access\n",
    "    #add option to set optimisation on/off ?\n",
    "    if optimised:\n",
    "        print(\"Maps combined for optimal angle of {0:.2f} degrees\\n\\\n",
    "        {1} clockwise w.r.t {2}\".format(optimalangle,map2.filename,map1.filename))\n",
    "        print(\"Optimised peak-to-valley height: {0} m\".format(interfacemap.peakvalley))\n",
    "    \n",
    "    return interfacemap\n",
    "\n",
    "interfacemap = combinemaps(map1,map2)"
   ]
  },
  {
   "cell_type": "code",
   "execution_count": 26,
   "metadata": {},
   "outputs": [],
   "source": [
    "# combinemaps(map1,map2,optimised=False)"
   ]
  },
  {
   "cell_type": "code",
   "execution_count": 27,
   "metadata": {},
   "outputs": [],
   "source": [
    "x,y = np.indices(map1.heights.shape)\n",
    "centre = int(np.nanmean(map1.validrows)), int(np.nanmean(map1.validcols))\n",
    "\n",
    "# vectarray = np.dstack([x - centre[1],y - centre[0],map1.heights])\n",
    "vectarray = np.dstack([x, y, map1.heights])\n",
    "vectarray = vectarray.reshape(int(vectarray.size/3),3)\n",
    "\n",
    "rz = Rot.from_rotvec(np.pi/4*np.array([0,0,1]))\n",
    "newarray = rz.apply(vectarray)\n",
    "# newarray[:,0] += centre[1]\n",
    "# newarray[:,1] += centre[0]\n",
    "\n",
    "# np.sort(np.sort(newarray, axis=0), axis=0)\n",
    "# a = newarray[vectarray[:,2].argsort()]\n",
    "# a = a[a[:,1].argsort(kind=\"mergesort\")]\n",
    "# a = a[a[:,0].argsort(kind=\"mergesort\")]\n",
    "\n",
    "a = newarray[np.where(np.isfinite(newarray[:,2]))]"
   ]
  },
  {
   "cell_type": "code",
   "execution_count": 28,
   "metadata": {},
   "outputs": [
    {
     "data": {
      "text/plain": [
       "array([[-2.96984848e+01,  3.81837662e+01,  4.33209104e-10],\n",
       "       [-2.96984848e+01,  3.95979797e+01, -3.06437025e-10],\n",
       "       [-2.96984848e+01,  4.38406204e+01,  4.19631911e-10],\n",
       "       ...,\n",
       "       [ 2.96984848e+01,  4.24264069e+01,  9.43570760e-09],\n",
       "       [ 2.96984848e+01,  4.38406204e+01,  1.02216718e-08],\n",
       "       [ 2.96984848e+01,  4.52548340e+01,  1.10269476e-08]])"
      ]
     },
     "execution_count": 28,
     "metadata": {},
     "output_type": "execute_result"
    }
   ],
   "source": [
    "a[np.lexsort((a[:,2], a[:,1], a[:,0]))]"
   ]
  },
  {
   "cell_type": "code",
   "execution_count": 29,
   "metadata": {},
   "outputs": [
    {
     "data": {
      "text/plain": [
       "array([[-2.12132034e+01,  2.12132034e+01, -1.68220814e-08],\n",
       "       [-1.55563492e+01,  1.69705627e+01, -2.07877510e-08],\n",
       "       [-1.62634560e+01,  1.76776695e+01, -1.87562952e-08],\n",
       "       ...,\n",
       "       [ 1.62634560e+01,  6.71751442e+01, -8.85656828e-09],\n",
       "       [ 1.55563492e+01,  6.78822510e+01, -9.84736595e-09],\n",
       "       [ 2.12132034e+01,  6.36396103e+01, -3.44274744e-09]])"
      ]
     },
     "execution_count": 29,
     "metadata": {},
     "output_type": "execute_result"
    }
   ],
   "source": [
    "#rotate only valid points, then sort them into index order to re-insert heights in new positions\n",
    "a = vectarray[np.where(np.isfinite(vectarray[:,2]))]\n",
    "a = rz.apply(a)\n",
    "a"
   ]
  },
  {
   "cell_type": "code",
   "execution_count": 30,
   "metadata": {},
   "outputs": [
    {
     "data": {
      "text/plain": [
       "array([[-2.96984848e+01,  3.81837662e+01,  4.33209104e-10],\n",
       "       [-2.96984848e+01,  3.95979797e+01, -3.06437025e-10],\n",
       "       [-2.96984848e+01,  4.38406204e+01,  4.19631911e-10],\n",
       "       ...,\n",
       "       [ 2.96984848e+01,  4.24264069e+01,  9.43570760e-09],\n",
       "       [ 2.96984848e+01,  4.38406204e+01,  1.02216718e-08],\n",
       "       [ 2.96984848e+01,  4.52548340e+01,  1.10269476e-08]])"
      ]
     },
     "execution_count": 30,
     "metadata": {},
     "output_type": "execute_result"
    }
   ],
   "source": [
    "a = a[np.lexsort((a[:,2], a[:,1], a[:,0]))]\n",
    "a"
   ]
  },
  {
   "cell_type": "code",
   "execution_count": 31,
   "metadata": {},
   "outputs": [
    {
     "data": {
      "text/plain": [
       "array([[-29,  38,   0],\n",
       "       [-29,  39,   0],\n",
       "       [-29,  43,   0],\n",
       "       ...,\n",
       "       [ 29,  42,   0],\n",
       "       [ 29,  43,   0],\n",
       "       [ 29,  45,   0]])"
      ]
     },
     "execution_count": 31,
     "metadata": {},
     "output_type": "execute_result"
    }
   ],
   "source": [
    "np.array(a, dtype=int)"
   ]
  },
  {
   "cell_type": "code",
   "execution_count": 32,
   "metadata": {},
   "outputs": [
    {
     "data": {
      "text/plain": [
       "array([[nan, nan, nan, ..., nan, nan, nan],\n",
       "       [nan, nan, nan, ..., nan, nan, nan],\n",
       "       [nan, nan, nan, ..., nan, nan, nan],\n",
       "       ...,\n",
       "       [nan, nan, nan, ..., nan, nan, nan],\n",
       "       [nan, nan, nan, ..., nan, nan, nan],\n",
       "       [nan, nan, nan, ..., nan, nan, nan]])"
      ]
     },
     "execution_count": 32,
     "metadata": {},
     "output_type": "execute_result"
    }
   ],
   "source": [
    "#have sorted the array of vectors from map1.heights and stored the rotated vector array in \"a\"\n",
    "#let \"c\" be the intermediate variable (avoid overwriting the data whil testing)\n",
    "#for the valid points in c, edit these heights with the values from rotated array (last column is heights)\n",
    "#the rotated array has been re-ordered, so that the points will be in array position order, ready to be inserted in-place\n",
    "c = map1.heights.copy()\n",
    "c[np.where(np.isfinite(c))] = a[:,2]\n",
    "c"
   ]
  },
  {
   "cell_type": "code",
   "execution_count": 33,
   "metadata": {},
   "outputs": [
    {
     "data": {
      "image/png": "[encoded data removed]",
      "text/plain": [
       "<Figure size 432x288 with 1 Axes>"
      ]
     },
     "metadata": {
      "needs_background": "light"
     },
     "output_type": "display_data"
    },
    {
     "data": {
      "image/png": "[encoded data removed]",
      "text/plain": [
       "<Figure size 432x288 with 1 Axes>"
      ]
     },
     "metadata": {
      "needs_background": "light"
     },
     "output_type": "display_data"
    }
   ],
   "source": [
    "plt.imshow(map1.heights)\n",
    "plt.show()\n",
    "plt.imshow(c)\n",
    "plt.show()\n",
    "#45 degree rotation shows the off-axis problems - grid points not matching rotated order."
   ]
  },
  {
   "cell_type": "code",
   "execution_count": 34,
   "metadata": {},
   "outputs": [
    {
     "data": {
      "text/plain": [
       " final_simplex: (array([[0.00000000e+00],\n",
       "       [9.09494702e-16]]), array([6.59707606e-08, 6.59707606e-08]))\n",
       "           fun: 6.597076060426526e-08\n",
       "       message: 'Optimization terminated successfully.'\n",
       "          nfev: 116\n",
       "           nit: 39\n",
       "        status: 0\n",
       "       success: True\n",
       "             x: array([0.])"
      ]
     },
     "execution_count": 34,
     "metadata": {},
     "output_type": "execute_result"
    }
   ],
   "source": [
    "opts = {\"ftol\":1e-15, \"xtol\":1e-15, \"maxiter\":1000}\n",
    "params = scipy.optimize.minimize(ztestf, x0=0, args=(map1,map2), tol=1e-15, method=\"Nelder-Mead\", options=opts)\n",
    "# angz = params[\"x\"]  # - access the optimal angle found by the minimisation\n",
    "params"
   ]
  },
  {
   "cell_type": "code",
   "execution_count": 35,
   "metadata": {},
   "outputs": [],
   "source": [
    "#the solution using ndimage interpolator, which handles off-grid rotations well\n",
    "#it's also very fast, even at order 1 of interpolation (order 0 is none)\n",
    "#works for order 0 or 1, any higher and can't handle nan values (all nan array returned)\n",
    "#reshape=False, to keep same size of array; mode=\"constant\" with cval set to fill the unspecified points with nan values\n",
    "d1 = scipy.ndimage.rotate(map1.heights, 45, order=1, reshape=True, mode=\"constant\", cval=np.nan)\n",
    "d2 = scipy.ndimage.rotate(map1.heights, 45, order=1, reshape=False, mode=\"constant\", cval=np.nan)\n",
    "# d"
   ]
  },
  {
   "cell_type": "code",
   "execution_count": 36,
   "metadata": {},
   "outputs": [
    {
     "data": {
      "image/png": "[encoded data removed]",
      "text/plain": [
       "<Figure size 432x288 with 2 Axes>"
      ]
     },
     "metadata": {
      "needs_background": "light"
     },
     "output_type": "display_data"
    },
    {
     "data": {
      "image/png": "[encoded data removed]",
      "text/plain": [
       "<Figure size 432x288 with 2 Axes>"
      ]
     },
     "metadata": {
      "needs_background": "light"
     },
     "output_type": "display_data"
    }
   ],
   "source": [
    "#how different are the results for each order ?\n",
    "# plt.imshow(d1 - d2)\n",
    "# plt.show()\n",
    "plt.imshow(d1)\n",
    "plt.colorbar()\n",
    "plt.show()\n",
    "plt.imshow(d2)\n",
    "plt.colorbar()\n",
    "plt.show()"
   ]
  },
  {
   "cell_type": "code",
   "execution_count": 37,
   "metadata": {},
   "outputs": [
    {
     "name": "stdout",
     "output_type": "stream",
     "text": [
      "3.906866078154253e-09\n",
      "3.830410234903091e-08\n",
      "0.10199602232038983\n"
     ]
    }
   ],
   "source": [
    "maxdiff = 0\n",
    "for angle in range(180):\n",
    "    d1 = scipy.ndimage.rotate(map1.heights, angle, order=0, reshape=False, mode=\"constant\", cval=np.nan)\n",
    "    d2 = scipy.ndimage.rotate(map1.heights, angle, order=1, reshape=False, mode=\"constant\", cval=np.nan)\n",
    "    \n",
    "    if abs(np.nanmax(d1 - d2)) > maxdiff:\n",
    "        maxdiff = np.nanmax(d1 - d2)\n",
    "        \n",
    "print(maxdiff)\n",
    "print(map1.peakvalley)\n",
    "print(maxdiff/map1.peakvalley)  # - error on order of 1/10th of peak-valley height (significant ?)\n",
    "#looks like the interpolation is changing the data a bit too far from the measurements"
   ]
  },
  {
   "cell_type": "code",
   "execution_count": 38,
   "metadata": {},
   "outputs": [
    {
     "data": {
      "text/plain": [
       "(1.3659077659655877e-08, 1.3638350927280025e-08)"
      ]
     },
     "execution_count": 38,
     "metadata": {},
     "output_type": "execute_result"
    }
   ],
   "source": [
    "np.nanmax(d1), np.nanmax(d2)"
   ]
  },
  {
   "cell_type": "code",
   "execution_count": 39,
   "metadata": {},
   "outputs": [
    {
     "data": {
      "text/plain": [
       "(-2.464502468937503e-08, -2.401582762158384e-08)"
      ]
     },
     "execution_count": 39,
     "metadata": {},
     "output_type": "execute_result"
    }
   ],
   "source": [
    "np.nanmin(d1), np.nanmin(d2)"
   ]
  },
  {
   "cell_type": "code",
   "execution_count": 40,
   "metadata": {},
   "outputs": [
    {
     "name": "stdout",
     "output_type": "stream",
     "text": [
      "288.0 3.252590683784117e-08\n"
     ]
    }
   ],
   "source": [
    "#minimisation seems to depend heavily on input \"guess\" (x0) as to how it finds the minimum\n",
    "#large angles most likely to show major differences if any exist\n",
    "#trial some guesses, in the (0,180) degrees range (NOTE: scipy.ndimage.rotate uses degrees; radians used before but not here)\n",
    "#minimise for angle near each guess, and choose the best option (approximate or accurate is hard to tell)\n",
    "\n",
    "minpv = combinemaps(map1,map2, optimised=False).peakvalley  # - initial best result is the standard peakvalley of interface\n",
    "optimalangle = 0\n",
    "for angle in np.linspace(0,360, 10):\n",
    "    params = scipy.optimize.minimize(ztestf, x0=angle, args=(map1,map2), tol=1e-15, method=\"Nelder-Mead\", options=opts)\n",
    "    if params[\"fun\"] < minpv:\n",
    "        minpv = params[\"fun\"]\n",
    "        optimalangle = params[\"x\"][0]\n",
    "        \n",
    "print(optimalangle, minpv)"
   ]
  },
  {
   "cell_type": "code",
   "execution_count": 41,
   "metadata": {},
   "outputs": [
    {
     "data": {
      "text/plain": [
       "array([288.])"
      ]
     },
     "execution_count": 41,
     "metadata": {},
     "output_type": "execute_result"
    }
   ],
   "source": [
    "#will get different results if using \"(0,360)\" vs. \"slice(0,360)\" slice object\n",
    "# - the slice object is the preferred input and gives the right minimum\n",
    "scipy.optimize.brute(ztestf, ranges=(slice(0,360),), args=(map1,map2))"
   ]
  },
  {
   "cell_type": "code",
   "execution_count": 42,
   "metadata": {},
   "outputs": [
    {
     "data": {
      "text/plain": [
       "3.252590683784117e-08"
      ]
     },
     "execution_count": 42,
     "metadata": {},
     "output_type": "execute_result"
    }
   ],
   "source": [
    "ztestf([288.], map1,map2)"
   ]
  },
  {
   "cell_type": "code",
   "execution_count": 43,
   "metadata": {},
   "outputs": [
    {
     "data": {
      "text/plain": [
       "array([278.21546053])"
      ]
     },
     "execution_count": 43,
     "metadata": {},
     "output_type": "execute_result"
    }
   ],
   "source": [
    "#compared to non-slice (giving wrong value)\n",
    "scipy.optimize.brute(ztestf, ranges=((0,360),), args=(map1,map2))"
   ]
  },
  {
   "cell_type": "code",
   "execution_count": 44,
   "metadata": {},
   "outputs": [
    {
     "data": {
      "text/plain": [
       "3.308140775285952e-08"
      ]
     },
     "execution_count": 44,
     "metadata": {},
     "output_type": "execute_result"
    }
   ],
   "source": [
    "ztestf([278.21546053], map1,map2)"
   ]
  },
  {
   "cell_type": "code",
   "execution_count": 45,
   "metadata": {},
   "outputs": [
    {
     "name": "stdout",
     "output_type": "stream",
     "text": [
      "900 ms ± 17.7 ms per loop (mean ± std. dev. of 7 runs, 1 loop each)\n"
     ]
    }
   ],
   "source": [
    "%%timeit\n",
    "minpv = interfacemap.peakvalley  # - initial best result is the standard peakvalley of interface\n",
    "optimalangle = 0\n",
    "for angle in np.linspace(0,360, 10):\n",
    "    params = scipy.optimize.minimize(ztestf, x0=angle, args=(map1,map2), tol=1e-15, method=\"Nelder-Mead\", options=opts)\n",
    "    if params[\"fun\"] < minpv:\n",
    "        minpv = params[\"fun\"]\n",
    "        optimalangle = params[\"x\"][0]"
   ]
  },
  {
   "cell_type": "code",
   "execution_count": 46,
   "metadata": {},
   "outputs": [
    {
     "name": "stdout",
     "output_type": "stream",
     "text": [
      "247 ms ± 2.97 ms per loop (mean ± std. dev. of 7 runs, 1 loop each)\n"
     ]
    }
   ],
   "source": [
    "#quick enough to compute brute-force optimisation (removes need for loop of guess angles) and is faster actually\n",
    "%timeit scipy.optimize.brute(ztestf, ranges=(slice(0,360),), args=(map1,map2))"
   ]
  },
  {
   "cell_type": "code",
   "execution_count": 47,
   "metadata": {},
   "outputs": [
    {
     "data": {
      "text/plain": [
       " final_simplex: (array([[288.],\n",
       "       [288.]]), array([3.25259068e-08, 3.25259068e-08]))\n",
       "           fun: 3.252590683784117e-08\n",
       "       message: 'Optimization terminated successfully.'\n",
       "          nfev: 143\n",
       "           nit: 50\n",
       "        status: 0\n",
       "       success: True\n",
       "             x: array([288.])"
      ]
     },
     "execution_count": 47,
     "metadata": {},
     "output_type": "execute_result"
    }
   ],
   "source": [
    "#showing the brute force result as a guess is accurate with regular minimize() Nelder-Mead method from before\n",
    "scipy.optimize.minimize(ztestf, x0=optimalangle, args=(map1,map2), tol=1e-15, method=\"Nelder-Mead\", options=opts)"
   ]
  },
  {
   "cell_type": "code",
   "execution_count": 48,
   "metadata": {},
   "outputs": [
    {
     "data": {
      "image/png": "[encoded data removed]",
      "text/plain": [
       "<Figure size 432x288 with 2 Axes>"
      ]
     },
     "metadata": {
      "needs_background": "light"
     },
     "output_type": "display_data"
    }
   ],
   "source": [
    "plt.imshow(interfacemap.heights)\n",
    "plt.title(\"Map of interface surface height, optimised\\n (for rotation of M2 w.r.t M1 around z-axis)\\n\")\n",
    "plt.colorbar()\n",
    "plt.show()"
   ]
  },
  {
   "cell_type": "code",
   "execution_count": 49,
   "metadata": {},
   "outputs": [
    {
     "name": "stderr",
     "output_type": "stream",
     "text": [
      "/local/environments/gw/gw-venv/lib64/python3.6/site-packages/ipykernel_launcher.py:8: UserWarning: Z contains NaN values. This may result in rendering artifacts.\n",
      "  \n"
     ]
    },
    {
     "data": {
      "image/png": "[encoded data removed]",
      "text/plain": [
       "<Figure size 432x288 with 2 Axes>"
      ]
     },
     "metadata": {
      "needs_background": "light"
     },
     "output_type": "display_data"
    }
   ],
   "source": [
    "fig = plt.figure()\n",
    "ax = fig.add_subplot(111,projection=\"3d\")\n",
    "ax.set_zlim(interfacemap.valley, interfacemap.peak)\n",
    "\n",
    "x,y = np.indices(interfacemap.heights.shape)\n",
    "\n",
    "current_cmap = copy.copy(cm.get_cmap(\"viridis\"))\n",
    "p = ax.plot_surface(x,y,interfacemap.heights, vmin=interfacemap.valley, vmax=interfacemap.peak, antialiased=False, cmap=current_cmap)\n",
    "# p.cmap.set_bad(\"black\", alpha=1)\n",
    "\n",
    "plt.colorbar(p, pad=0.16)\n",
    "\n",
    "ax.view_init(elev=20, azim=-20)\n",
    "\n",
    "plt.show()"
   ]
  },
  {
   "cell_type": "code",
   "execution_count": 50,
   "metadata": {},
   "outputs": [
    {
     "name": "stdout",
     "output_type": "stream",
     "text": [
      "6.388808111043491e-08\n",
      "1.4421456967770605e-08\n"
     ]
    }
   ],
   "source": [
    "print(combinemaps(map1,map2, optimised=False).peakvalley)\n",
    "print(combinemaps(map1,map2, optimised=False).rmsHeight)"
   ]
  },
  {
   "cell_type": "code",
   "execution_count": 52,
   "metadata": {},
   "outputs": [
    {
     "name": "stdout",
     "output_type": "stream",
     "text": [
      "3.150101061617541e-08\n",
      "7.142078896293826e-09\n"
     ]
    }
   ],
   "source": [
    "print(interfacemap.peakvalley)\n",
    "print(interfacemap.rmsHeight)"
   ]
  }
 ],
 "metadata": {
  "kernelspec": {
   "display_name": "GravWaves",
   "language": "python",
   "name": "gravwaves"
  },
  "language_info": {
   "codemirror_mode": {
    "name": "ipython",
    "version": 3
   },
   "file_extension": ".py",
   "mimetype": "text/x-python",
   "name": "python",
   "nbconvert_exporter": "python",
   "pygments_lexer": "ipython3",
   "version": "3.6.8"
  }
 },
 "nbformat": 4,
 "nbformat_minor": 4
}
