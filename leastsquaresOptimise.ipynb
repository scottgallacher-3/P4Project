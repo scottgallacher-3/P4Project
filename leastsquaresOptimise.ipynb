{
 "cells": [
  {
   "cell_type": "code",
   "execution_count": 1,
   "metadata": {},
   "outputs": [],
   "source": [
    "import numpy as np\n",
    "from scipy.spatial.transform import Rotation as Rot\n",
    "import scipy.optimize\n",
    "import copy\n",
    "import matplotlib.pyplot as plt\n",
    "import matplotlib.cm as cm\n",
    "# %matplotlib notebook\n",
    "\n",
    "from scipy.interpolate import interp2d, Rbf\n",
    "from scipy.linalg import lstsq"
   ]
  },
  {
   "cell_type": "code",
   "execution_count": 3,
   "metadata": {},
   "outputs": [],
   "source": [
    "#file reading function firstly, to be attached to class as method probably (create map from filename argument only)\n",
    "def zygoread(filename):\n",
    "    with open(filename, \"r\") as f:\n",
    "        fstrings = f.read().split(\"\\\"\")\n",
    "        \n",
    "        fields = []\n",
    "        data = []\n",
    "        section = 0\n",
    "        for elt in fstrings:\n",
    "            if \"#\" in elt:  # - use this test to show end of header section, then switch to next section\n",
    "                section += 1\n",
    "                pass\n",
    "            \n",
    "            if section == 0:  # - processing header section\n",
    "                #multiple fields are stored within single strings, so need to split by newline to narrow down\n",
    "                #numbers stored within strings can be extracted afterwards\n",
    "                #excess artifacts can be filtered out using if (True) test on elements of split string\n",
    "                #fails on empty string, thus keeping only the relevant fields\n",
    "                elt = elt.split(\"\\n\")\n",
    "                values = [_ for _ in elt if _]  # - filter bad elements (e.g. \"\" which have no data and return False)\n",
    "                #test for non-empty lists (indicates no data was found in values list)\n",
    "                if values:\n",
    "                    fields.append(values)\n",
    "            \n",
    "            elif section == 1:  # - move to data extraction for intensities and phases\n",
    "                #the initial split left the both datasets in a single string - separate by \"#\"\n",
    "                #split string containing a dataset then iterate through the resulting lines of 10\n",
    "                #append all values to a 'data' array, filter as before\n",
    "                #splitting by \"#\" will result in 2 list stored in the 'data' list\n",
    "                #i.e. can extract: intensities = data[0], phases = data[1]\n",
    "                for line in elt.split(\"#\"):\n",
    "                    values = [_ for _ in line.split() if _]\n",
    "                    if values:\n",
    "                        data.append(values)\n",
    "                \n",
    "        \n",
    "        \n",
    "        \n",
    "    return fields, data"
   ]
  },
  {
   "cell_type": "code",
   "execution_count": 4,
   "metadata": {},
   "outputs": [],
   "source": [
    "class zygomap:\n",
    "    \n",
    "    def crop(self, radius=0):\n",
    "        #allow user to crop to extract only data within some radius\n",
    "        #most needed to avoid large edge effects (discontinuities)\n",
    "        #use the (stored) centred x and y positions to check against radius\n",
    "        #make a new cropped array where points outwith radius are set to nan\n",
    "        #and \"zoom in\" to store only the array within the valid range\n",
    "        #will run during __init__(), with default radius = 0, so can avoid editing if radius is default\n",
    "        #and only do if user chose a (non-zero) radius\n",
    "        #thus only the centring of view by array slicing is performed (no need for separate functions)\n",
    "        \n",
    "        #set cropped array based on original state of heights (so not cropping multiple times and losing data)\n",
    "        cropped = self.heights0.copy()\n",
    "        \n",
    "        if radius != 0:\n",
    "            #if radius non-zero, we will be setting valid points to invalid (nan)\n",
    "            #use centred x,y grid points for full data array to make a mask for points outside radius\n",
    "            outsideR = self.x**2 + self.y**2 > radius**2\n",
    "            cropped[outsideR] = np.nan\n",
    "            \n",
    "            #could add a flag/callback here to automatically re-apply rotations after crops (otherwise advise user to do it)\n",
    "            #e.g. if callback = True -> rotateflat()\n",
    "        \n",
    "        #now find the extreme bounds of valid points and slice the array to show only the data within\n",
    "        validrows, validcols = np.where(np.isfinite(cropped))\n",
    "        lft, rgt, upp, low = np.nanmin(validcols), np.nanmax(validcols), np.nanmin(validrows), np.nanmax(validrows)\n",
    "        \n",
    "        cropped = cropped[upp:low+1, lft:rgt+1]\n",
    "        self.heights = cropped.copy()\n",
    "        \n",
    "        return cropped\n",
    "    \n",
    "    def testf(self, *args):\n",
    "        angx, angy = args[0]  # - format of scipy minimize requires a single 1st argument to alter - can have list with multiple\n",
    "        array = args[1]  # - the simple 2D array of height values\n",
    "\n",
    "        dims = array.shape\n",
    "        x,y = np.indices(dims)\n",
    "        \n",
    "        #make array of position vectors in Nx3 format: i.e. [x,y,height] as a single element for one point in 3D\n",
    "        #use dstack to arrange the separate array values down each column, then reshape to Nx3 array\n",
    "        vectarray = np.dstack([x,y,array])\n",
    "        vectarray = vectarray.reshape(int(vectarray.size/3), 3)\n",
    "\n",
    "        #define rotations around x and y axes respectively and combine via * operation\n",
    "        rx = Rot.from_rotvec(angx*np.array([1,0,0]))\n",
    "        ry = Rot.from_rotvec(angy*np.array([0,1,0]))\n",
    "        r = rx*ry\n",
    "\n",
    "        #apply overall rotation to entire vector array (rotates each vector individually)\n",
    "        #extract back individual columns and store them in original array dimensions\n",
    "        newarray = r.apply(vectarray)\n",
    "        newheights = newarray[:,2].reshape(dims)\n",
    "\n",
    "        #check the peak to valley height of rotated array\n",
    "        peakvalley = np.nanmax(newheights) - np.nanmin(newheights)    \n",
    "\n",
    "        return peakvalley\n",
    "    \n",
    "    def rotateflat(self, array):\n",
    "        #apply minimization\n",
    "        #call to external testf() (or make testf internal ?)\n",
    "        #then apply best rotation and return rotated array\n",
    "        #\"array\" argument left so normal or cropped maps can be used (i.e. self.heights vs self.cropped)\n",
    "        \n",
    "        #minimise peak to valley height for rotation angles around x-axis and y-axis\n",
    "        opts = {\"ftol\":1e-15, \"xtol\":1e-15, \"maxiter\":1000}\n",
    "        params = scipy.optimize.minimize(self.testf, x0=[0,0], args=array, tol=1e-15, method=\"Nelder-Mead\", options=opts)\n",
    "        angx,angy = params[\"x\"]  # - access the optimal angles found by the minimisation\n",
    "        \n",
    "        \n",
    "        #now apply the optimal rotations (same method as contained in test function, \"testf\")\n",
    "        dims = array.shape\n",
    "        x,y = np.indices(dims)\n",
    "        \n",
    "        vectarray = np.dstack([x,y,array])\n",
    "        vectarray = vectarray.reshape(int(vectarray.size/3), 3)\n",
    "        \n",
    "        rotx = Rot.from_rotvec(angx*np.array([1,0,0]))\n",
    "        roty = Rot.from_rotvec(angy*np.array([0,1,0]))\n",
    "        r = rotx*roty\n",
    "        \n",
    "        newarray = r.apply(vectarray)\n",
    "        newheights = newarray[:,2].reshape(dims)\n",
    "        \n",
    "        #centre in z-axis\n",
    "        newheights -= np.nanmean(newheights)\n",
    "        \n",
    "        self.peak, self.valley = np.nanmax(newheights), np.nanmin(newheights)\n",
    "        self.peakvalley = self.peak - self.valley\n",
    "        self.rmsHeight = np.sqrt(np.nanmean(newheights**2))\n",
    "        \n",
    "        #update the stored heights array\n",
    "        self.heights = newheights.copy()\n",
    "        \n",
    "        return newheights\n",
    "    \n",
    "    \n",
    "    def __init__(self, filename=None, array=None):\n",
    "        if filename is not None:\n",
    "            #get header and data from file by user-defined function \"zygoread\" (change to class method ?)\n",
    "            fields, data = zygoread(filename)\n",
    "\n",
    "            #header extraction\n",
    "            self.stringConstant = fields[0][0]\n",
    "            chunk = fields[0][1].split()\n",
    "            self.softwareType, self.majorVersion, self.minorVersion, self.bugVers = [int(n) for n in chunk]\n",
    "\n",
    "            self.softwareDate = fields[1][0]\n",
    "\n",
    "            chunk = fields[2][0].split()\n",
    "            self.intensOriginX, self.intensOriginY, self.intensWidth, self.intensHeight, self.Nbuckets, self.intensRange = [int(n) for n in chunk]\n",
    "\n",
    "            chunk = fields[2][1].split()\n",
    "            self.phaseOriginX, self.phaseOriginY, self.phaseWidth, self.phaseHeight = [int(n) for n in chunk]\n",
    "\n",
    "            self.comment = fields[3][0]\n",
    "\n",
    "            self.partSerNum = fields[4][0]\n",
    "            self.partNum = fields[5][0]\n",
    "\n",
    "            chunk = fields[6][0].split()\n",
    "            self.source = int(chunk.pop(0))\n",
    "            self.timeStamp = int(chunk.pop(-1))\n",
    "            self.intfScaleFactor, self.wavelengthIn, self.numericAperture, self.obliquityFactor, self.magnification, self.cameraRes = [float(n) for n in chunk]\n",
    "\n",
    "            chunk = fields[6][1].split()\n",
    "            self.cameraWidth, self.cameraHeight, self.systemType, self.systemBoard, self.systemSerial, self.instrumentId = [int(n) for n in chunk]\n",
    "\n",
    "            self.objectiveName = fields[7][0]\n",
    "\n",
    "            #want both index 6 & 7 seperately, as they need to be floats\n",
    "            #convert the rest to int as before\n",
    "            chunk = fields[8][0].split()  # - looks messier but should use this throughout to reduce repeated splitting\n",
    "            self.targetRange = float(chunk.pop(6))  # - remove item at index 6 and returns it (and modifies original list)\n",
    "            self.lightLevel = float(chunk.pop(6))  # - do it again as the index 7 is now at index 6 in the modified list\n",
    "            self.acquireMode, self.intensAvgs, self.PZTCal, self.PZTGain, self.PZTGainTolerance, self.AGC, self.minMod, self.minModPts = [int(n) for n in chunk]\n",
    "\n",
    "            chunk = fields[8][1].split()\n",
    "            self.disconFilter = float(chunk.pop(4))\n",
    "            self.phaseRes, self.phaseAvgs, self.minimumAreaSize, self.disconAction, self.connectionOrder, self.removeTiltBias, self.dataSign, self.codeVType = [int(n) for n in chunk]\n",
    "\n",
    "            self.subtractSysErr = int(fields[8][2])\n",
    "\n",
    "            self.sysErrFile = fields[9][0]\n",
    "\n",
    "            chunk = fields[10][0].split()\n",
    "            self.refractiveIndex, self.partThickness = [float(n) for n in chunk]\n",
    "\n",
    "            self.zoomDesc = fields[11][0]\n",
    "\n",
    "\n",
    "            #extract intensity and phase data as numpy arrays (reshape to header parameters)\n",
    "            self.intensitymap = np.array(data[0], dtype=float).reshape(self.intensHeight, self.intensWidth)\n",
    "            self.phasemap = np.array(data[1], dtype=float).reshape(self.phaseHeight, self.phaseWidth)\n",
    "\n",
    "            #handle invalid values (given in MetroPro manual)\n",
    "            self.intensitymap[self.intensitymap >= 64512] = np.nan\n",
    "            self.phasemap[self.phasemap >= 2147483640] = np.nan\n",
    "\n",
    "            #create arrays in terms of number of waves, and height itself\n",
    "            #by given formula\n",
    "            if self.phaseRes == 0:\n",
    "                self.R = 4096\n",
    "            elif self.phaseRes == 1:\n",
    "                self.R = 32768\n",
    "            self.waves = self.phasemap*(self.intfScaleFactor*self.obliquityFactor)/self.R\n",
    "            self.heights = self.waves*self.wavelengthIn\n",
    "             \n",
    "        elif array is not None:\n",
    "            #allow map object to be created from scratch (i.e. make interface as a map object directly)\n",
    "            self.heights = array.copy()\n",
    "        \n",
    "        ########################\n",
    "        ########################\n",
    "        ##pre-processing maps\n",
    "        \n",
    "        #grid points for use in some methods (just using array i,j position index (can scale later))\n",
    "        self.y, self.x = np.indices(self.heights.shape)\n",
    "        \n",
    "        #apply cropping first (user-defined radius ? or default ?)\n",
    "        #self.cropped = self.crop(self.heights)\n",
    "        #orderings/logistics of this needs fixed: which array is edited? when? what effect should user cropping give?\n",
    "        #create a copy of the initial height array, this allows crop to act on those values and provide new self.heights\n",
    "        #without data loss\n",
    "        self.heights0 = self.heights.copy()\n",
    "#         self.cropped = self.heights[:]  # - slice notation actually still links the variables, need np.copy() instead\n",
    "        \n",
    "        #adjust to centre of valid points (centre of surface)\n",
    "        self.validrows, self.validcols = np.where(np.isfinite(self.heights0))\n",
    "        self.centre = int(np.nanmean(self.validrows)), int(np.nanmean(self.validcols))\n",
    "        self.x -= self.centre[1]\n",
    "        self.y -= self.centre[0]\n",
    "        \n",
    "        self.crop()\n",
    "        \n",
    "        #remove tilt if present\n",
    "        self.heights = self.rotateflat(self.heights)\n",
    "        \n",
    "        \n",
    "        #moved below into rotateflat(), so they are automatically recalculated\n",
    "        #storing: self.peak, self.valley, self.peakvalley, self.rmsHeight\n",
    "        #based on the rotated map (i.e. not stored unless rotation removed (would be inaccurate but could do for completeness))\n",
    "        # - could make a separate function, to be performed at any time but is there any point ?\n",
    "        #centring in z-axis\n",
    "#         self.heights -= np.nanmean(self.heights)\n",
    "        \n",
    "        #end calculations\n",
    "#         self.peakvalley = np.nanmax(self.heights) - np.nanmin(self.heights)\n",
    "        \n",
    "        return"
   ]
  },
  {
   "cell_type": "code",
   "execution_count": 5,
   "metadata": {},
   "outputs": [],
   "source": [
    "map1 = zygomap(\"M1.txt\")\n",
    "map2 = zygomap(\"M2.txt\")"
   ]
  },
  {
   "cell_type": "markdown",
   "metadata": {},
   "source": [
    "#### using linear plane fit to compare tilts"
   ]
  },
  {
   "cell_type": "code",
   "execution_count": 6,
   "metadata": {},
   "outputs": [
    {
     "data": {
      "text/plain": [
       "(71, 70)"
      ]
     },
     "execution_count": 6,
     "metadata": {},
     "output_type": "execute_result"
    }
   ],
   "source": [
    "map1.crop()  # - reset view\n",
    "arr = map1.heights.copy()\n",
    "arr.shape"
   ]
  },
  {
   "cell_type": "code",
   "execution_count": 8,
   "metadata": {},
   "outputs": [],
   "source": [
    "x,y = np.indices(arr.shape)\n",
    "\n",
    "f = interp2d(x.flatten(),y.flatten(), arr, kind=\"linear\")"
   ]
  },
  {
   "cell_type": "code",
   "execution_count": 11,
   "metadata": {},
   "outputs": [
    {
     "data": {
      "text/plain": [
       "{'tck': [array([ 0.,  0., nan, nan, nan, nan, nan, nan, nan, nan, nan, nan, nan,\n",
       "         nan, nan, nan, nan, nan, nan, nan, nan, nan, nan, nan, nan, nan,\n",
       "         nan, nan, nan, nan, nan, nan, nan, nan, nan, nan, nan, nan, nan,\n",
       "         nan, nan, nan, nan, nan, nan, nan, nan, nan, nan, nan, nan, nan,\n",
       "         nan, nan, nan, nan, nan, nan, nan, nan, nan, nan, nan, nan, nan,\n",
       "         nan, nan, nan, nan, nan, nan, 70., 70.]),\n",
       "  array([ 0.,  0., nan, nan, nan, nan, nan, nan, nan, nan, nan, nan, nan,\n",
       "         nan, nan, nan, nan, nan, nan, nan, nan, nan, nan, nan, nan, nan,\n",
       "         nan, nan, nan, nan, nan, nan, nan, nan, nan, nan, nan, nan, nan,\n",
       "         nan, nan, nan, nan, nan, nan, nan, nan, nan, nan, nan, nan, nan,\n",
       "         nan, nan, nan, nan, nan, nan, nan, nan, nan, nan, nan, nan, nan,\n",
       "         nan, nan, nan, nan, nan, nan, 69., 69.]),\n",
       "  array([nan, nan, nan, ..., nan, nan, nan]),\n",
       "  1,\n",
       "  1],\n",
       " 'bounds_error': False,\n",
       " 'fill_value': None,\n",
       " 'x': array([ 0,  0,  0, ..., 70, 70, 70]),\n",
       " 'y': array([ 0,  1,  2, ..., 67, 68, 69]),\n",
       " 'z': array([nan, nan, nan, ..., nan, nan, nan]),\n",
       " 'x_min': 0,\n",
       " 'x_max': 70,\n",
       " 'y_min': 0,\n",
       " 'y_max': 69}"
      ]
     },
     "execution_count": 11,
     "metadata": {},
     "output_type": "execute_result"
    }
   ],
   "source": [
    "f.__dict__"
   ]
  },
  {
   "cell_type": "code",
   "execution_count": 12,
   "metadata": {},
   "outputs": [
    {
     "data": {
      "image/png": "[encoded data removed]",
      "text/plain": [
       "<Figure size 432x288 with 2 Axes>"
      ]
     },
     "metadata": {
      "needs_background": "light"
     },
     "output_type": "display_data"
    }
   ],
   "source": [
    "plt.imshow((map1.heights - f.z.reshape(arr.shape))**2)\n",
    "plt.colorbar()\n",
    "plt.show()"
   ]
  },
  {
   "cell_type": "code",
   "execution_count": 13,
   "metadata": {},
   "outputs": [
    {
     "data": {
      "text/plain": [
       "1.4147525512695313e-06"
      ]
     },
     "execution_count": 13,
     "metadata": {},
     "output_type": "execute_result"
    }
   ],
   "source": [
    "np.nanmax(f.z) - np.nanmin(f.z)"
   ]
  },
  {
   "cell_type": "code",
   "execution_count": 9,
   "metadata": {},
   "outputs": [],
   "source": [
    "#example of using scipy.linalg.lstq (here with random 3D data)\n",
    "#find coefficients for flat plane to fit data and reconstruct over the grid points x & y\n",
    "\n",
    "mean = np.array([0.0,0.0,0.0])\n",
    "cov = np.array([[1.0,-0.5,0.8], [-0.5,1.1,0.0], [0.8,0.0,1.0]])\n",
    "data = np.random.multivariate_normal(mean, cov, 50)\n",
    "\n",
    "A = np.dstack((data[:,0], data[:,1], np.ones(data.shape[0])))\n",
    "coefficients,res,rank,sing = lstsq(A[0], data[:,2])\n",
    "\n",
    "Z = coefficients[0]*x + coefficients[1]*y + coefficients[2]"
   ]
  },
  {
   "cell_type": "code",
   "execution_count": 10,
   "metadata": {},
   "outputs": [
    {
     "data": {
      "image/png": "[encoded data removed]",
      "text/plain": [
       "<Figure size 432x288 with 1 Axes>"
      ]
     },
     "metadata": {
      "needs_background": "light"
     },
     "output_type": "display_data"
    }
   ],
   "source": [
    "plt.imshow(Z)\n",
    "plt.show()"
   ]
  },
  {
   "cell_type": "code",
   "execution_count": 16,
   "metadata": {},
   "outputs": [
    {
     "data": {
      "image/png": "[encoded data removed]",
      "text/plain": [
       "<Figure size 432x288 with 2 Axes>"
      ]
     },
     "metadata": {
      "needs_background": "light"
     },
     "output_type": "display_data"
    }
   ],
   "source": [
    "fig = plt.figure()\n",
    "ax = fig.add_subplot(111,projection=\"3d\")\n",
    "# ax.set_zlim(map1.valley, map1.peak)\n",
    "\n",
    "# x,y = np.indices(interfacemap.heights.shape)\n",
    "x,y = f.x.reshape(arr.shape), f.y.reshape(arr.shape)\n",
    "bestfit = f.z.reshape(arr.shape)\n",
    "\n",
    "current_cmap = copy.copy(cm.get_cmap(\"viridis\"))\n",
    "p = ax.plot_surface(x,y, Z, antialiased=False, cmap=current_cmap)\n",
    "# p = ax.plot_surface(x,y, bestfit, antialiased=False, cmap=current_cmap)\n",
    "# p.cmap.set_bad(\"black\", alpha=1)\n",
    "\n",
    "plt.colorbar(p, pad=0.16)\n",
    "\n",
    "ax.view_init(elev=20, azim=-20)\n",
    "\n",
    "plt.show()"
   ]
  }
 ],
 "metadata": {
  "kernelspec": {
   "display_name": "GravWaves",
   "language": "python",
   "name": "gravwaves"
  },
  "language_info": {
   "codemirror_mode": {
    "name": "ipython",
    "version": 3
   },
   "file_extension": ".py",
   "mimetype": "text/x-python",
   "name": "python",
   "nbconvert_exporter": "python",
   "pygments_lexer": "ipython3",
   "version": "3.6.8"
  }
 },
 "nbformat": 4,
 "nbformat_minor": 4
}
