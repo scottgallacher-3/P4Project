{
 "cells": [
  {
   "cell_type": "code",
   "execution_count": 2,
   "metadata": {},
   "outputs": [],
   "source": [
    "import numpy as np\n",
    "import matplotlib.pyplot as plt\n",
    "import matplotlib.cm as cm"
   ]
  },
  {
   "cell_type": "code",
   "execution_count": 3,
   "metadata": {},
   "outputs": [],
   "source": [
    "#attempt to make a better/more streamlined form for reading the header and data\n",
    "\n",
    "#important steps:\n",
    "# 1 - open file\n",
    "# 2 - split by section (or simple iterate by line and change approach at \"#\" symbol)\n",
    "# 3 - split header section into lines then fields and store (or directly to fields (i.e. from one single string))\n",
    "# 4 - split intensity section into lines then into values and store all in a single list\n",
    "# 5 - make numpy array from the list of intensity values and reshape to dimensions given in header information\n",
    "# 6 - repeat 4 & 5 for phase data"
   ]
  },
  {
   "cell_type": "code",
   "execution_count": 38,
   "metadata": {},
   "outputs": [],
   "source": [
    "#I'll do a version using simple list storage and one with generator/yield to see if there's any benefit to either\n",
    "def ZygoReadTXT(filename):\n",
    "    \n",
    "    with open(filename, \"r\") as f:\n",
    "        \n",
    "        sections = (section for section in f.read().strip().split(\"#\\n\") if section.strip() != \"\")\n",
    "\n",
    "        headerlines = next(sections).strip().split(\"\\n\")\n",
    "        intensitylines = next(sections).split(\"\\n\")\n",
    "        phaselines = next(sections)\n",
    "        \n",
    "        d = (line.split(\"\\\"\") for line in headerlines)\n",
    "        stringconstant = next(d)[0]\n",
    "\n",
    "        #step through each chunk and process as required for the fields we need (compare to Metropro documentation)\n",
    "        #several fields will need to be converted to int or float types\n",
    "        #do this by list comprehension on each 'n' in the relevant chunk.split\n",
    "        chunk = next(d)  # - line 2\n",
    "        softwareType, majorVersion, minorVersion, bugVers = [int(n) for n in chunk[0].split()]\n",
    "        softwareDate = chunk[1]\n",
    "\n",
    "        chunk = next(d)  # - line 3\n",
    "        intensOriginX, intensOriginY, intensWidth, intensHeight, Nbuckets, intensRange = [int(n) for n in chunk[0].split()]\n",
    "\n",
    "        chunk = next(d)  # - line 4\n",
    "        phaseOriginX, phaseOriginY, phaseWidth, phaseHeight = [int(n) for n in chunk[0].split()]\n",
    "\n",
    "        chunk = next(d)  # - line 5 (comments)\n",
    "        comments = chunk[1]\n",
    "\n",
    "        chunk = next(d)  # - line 6\n",
    "        partSerNum = chunk[1]\n",
    "        chunk = next(d)  # - line 7\n",
    "        partNum = chunk[1]\n",
    "\n",
    "        chunk = next(d)  # - line 8\n",
    "        source, intfScaleFactor, wavelengthIn, numericAperture, obliquityFactor, magnification, cameraRes, timeStamp = [float(n) for n in chunk[0].split()]\n",
    "\n",
    "        chunk = next(d)  # - line 9\n",
    "        cameraWidth, cameraHeight, systemType, systemBoard, systemSerial, instrumentId = chunk[0].split()\n",
    "        objectiveName = chunk[1]\n",
    "\n",
    "        chunk = next(d)  # - line 10\n",
    "        acquireMode, intensAvgs, PZTCal, PZTGain, PZTGainTolerance, AGC, targetRange, lightLevel, minMod, minModPts = chunk[0].split()\n",
    "\n",
    "        chunk = next(d)  # - line 11\n",
    "        phaseRes, phaseAvgs, minimumAreaSize, disconAction, disconFilter, connectionOrder, removeTiltBias, dataSign, codeVType = chunk[0].split()\n",
    "\n",
    "        chunk = next(d)  # - line 12\n",
    "        subtractSysErr, sysErrFile = int(chunk[0]), chunk[1]\n",
    "\n",
    "        chunk = next(d)  # - line 13\n",
    "        refractiveIndex, partThickness = chunk[0].split()\n",
    "\n",
    "        chunk = next(d)  # - line 14\n",
    "        zoomDesc = chunk[1]\n",
    "        \n",
    "        \n",
    "        ##################\n",
    "        #intensity########\n",
    "        ##################\n",
    "        intensityrows = []\n",
    "        for row in intensitylines:\n",
    "            for val in row.split():\n",
    "                intensityrows.append(val)\n",
    "\n",
    "        intensitymap = np.array(intensityrows, dtype=float)\n",
    "        rows = intensHeight\n",
    "        cols = intensWidth\n",
    "        intensitymap = intensitymap.reshape(rows,cols)\n",
    "    \n",
    "    return"
   ]
  },
  {
   "cell_type": "code",
   "execution_count": 39,
   "metadata": {},
   "outputs": [
    {
     "name": "stdout",
     "output_type": "stream",
     "text": [
      "27.3 ms ± 266 µs per loop (mean ± std. dev. of 7 runs, 10 loops each)\n"
     ]
    }
   ],
   "source": [
    "%timeit ZygoReadTXT(\"A1.txt\")"
   ]
  },
  {
   "cell_type": "code",
   "execution_count": 1,
   "metadata": {},
   "outputs": [],
   "source": [
    "def ZygoReadTXT(filename):\n",
    "    \n",
    "    with open(filename, \"r\") as f:\n",
    "        sections = [section for section in f.read().strip().split(\"#\\n\") if section.strip() != \"\"]\n",
    "\n",
    "        headerlines = sections[0].strip().split(\"\\n\")\n",
    "        intensitylines = sections[1].split(\"\\n\")\n",
    "        phaselines = sections[2].split(\"\\n\")\n",
    "\n",
    "        d = [line.split(\"\\\"\") for line in headerlines]\n",
    "        stringConstant = d[0][0]\n",
    "\n",
    "        softwareType, majorVersion, minorVersion, bugVers = [int(n) for n in d[1][0].split()]\n",
    "        softwareDate = d[1][1]\n",
    "\n",
    "        intensOriginX, intensOriginY, intensWidth, intensHeight, Nbuckets, intensRange = [int(n) for n in d[2][0].split()]\n",
    "\n",
    "        # - line 4\n",
    "        phaseOriginX, phaseOriginY, phaseWidth, phaseHeight = [int(n) for n in d[3][0].split()]\n",
    "\n",
    "        # - line 5 (comments)\n",
    "        comments = d[4][1]\n",
    "\n",
    "        # - line 6\n",
    "        partSerNum = d[5][1]\n",
    "        # - line 7\n",
    "        partNum = d[6][1]\n",
    "\n",
    "        # - line 8\n",
    "        source, intfScaleFactor, wavelengthIn, numericAperture, obliquityFactor, magnification, cameraRes, timeStamp = [float(n) for n in d[7][0].split()]\n",
    "\n",
    "        # - line 9\n",
    "        cameraWidth, cameraHeight, systemType, systemBoard, systemSerial, instrumentId = d[8][0].split()\n",
    "        objectiveName = d[8][1]\n",
    "\n",
    "        # - line 10\n",
    "        acquireMode, intensAvgs, PZTCal, PZTGain, PZTGainTolerance, AGC, targetRange, lightLevel, minMod, minModPts = d[9][0].split()\n",
    "\n",
    "        # - line 11\n",
    "        phaseRes, phaseAvgs, minimumAreaSize, disconAction, disconFilter, connectionOrder, removeTiltBias, dataSign, codeVType = d[10][0].split()\n",
    "\n",
    "        # - line 12\n",
    "        subtractSysErr, sysErrFile = int(d[11][0]), d[11][1]\n",
    "\n",
    "        # - line 13\n",
    "        refractiveIndex, partThickness = d[12][0].split()\n",
    "\n",
    "        # - line 14\n",
    "        zoomDesc = d[13][1]\n",
    "        \n",
    "        #####################\n",
    "        #intensity###########\n",
    "        #####################\n",
    "        intensityrows = []\n",
    "        for row in intensitylines:\n",
    "            for val in row.split():\n",
    "                intensityrows.append(val)\n",
    "\n",
    "        intensitymap = np.array(intensityrows, dtype=float)\n",
    "        rows = intensHeight - intensOriginY\n",
    "        cols = intensWidth - intensOriginX\n",
    "        intensitymap = intensitymap.reshape(rows,cols)\n",
    "    \n",
    "    return"
   ]
  },
  {
   "cell_type": "code",
   "execution_count": 37,
   "metadata": {},
   "outputs": [
    {
     "name": "stdout",
     "output_type": "stream",
     "text": [
      "27.6 ms ± 104 µs per loop (mean ± std. dev. of 7 runs, 10 loops each)\n"
     ]
    }
   ],
   "source": [
    "%timeit ZygoReadTXT(\"A1.txt\")"
   ]
  },
  {
   "cell_type": "code",
   "execution_count": 3,
   "metadata": {},
   "outputs": [],
   "source": [
    "#list practice - check the types for info being read\n",
    "g = open(\"A1.txt\", \"r\")\n",
    "\n",
    "sections = [section for section in g.read().strip().split(\"#\\n\") if section.strip() != \"\"]\n",
    "\n",
    "headerlines = sections[0].strip().split(\"\\n\")\n",
    "intensitylines = sections[1].split(\"\\n\")\n",
    "phaselines = sections[2].split(\"\\n\")\n",
    "\n",
    "d = [line.split(\"\\\"\") for line in headerlines]\n",
    "stringConstant = d[0][0]\n",
    "\n",
    "softwareType, majorVersion, minorVersion, bugVers = [int(n) for n in d[1][0].split()]\n",
    "softwareDate = d[1][1]\n",
    "\n",
    "intensOriginX, intensOriginY, intensWidth, intensHeight, Nbuckets, intensRange = [int(n) for n in d[2][0].split()]\n",
    "\n",
    "# - line 4\n",
    "phaseOriginX, phaseOriginY, phaseWidth, phaseHeight = [int(n) for n in d[3][0].split()]\n",
    "\n",
    "# - line 5 (comments)\n",
    "comments = d[4][1]\n",
    "\n",
    "# - line 6\n",
    "partSerNum = d[5][1]\n",
    "# - line 7\n",
    "partNum = d[6][1]\n",
    "\n",
    "# - line 8\n",
    "source, intfScaleFactor, wavelengthIn, numericAperture, obliquityFactor, magnification, cameraRes, timeStamp = [float(n) for n in d[7][0].split()]\n",
    "\n",
    "# - line 9\n",
    "cameraWidth, cameraHeight, systemType, systemBoard, systemSerial, instrumentId = d[8][0].split()\n",
    "objectiveName = d[8][1]\n",
    "\n",
    "# - line 10\n",
    "acquireMode, intensAvgs, PZTCal, PZTGain, PZTGainTolerance, AGC, targetRange, lightLevel, minMod, minModPts = d[9][0].split()\n",
    "\n",
    "# - line 11\n",
    "phaseRes, phaseAvgs, minimumAreaSize, disconAction, disconFilter, connectionOrder, removeTiltBias, dataSign, codeVType = d[10][0].split()\n",
    "\n",
    "# - line 12\n",
    "subtractSysErr, sysErrFile = int(d[11][0]), d[11][1]\n",
    "\n",
    "# - line 13\n",
    "refractiveIndex, partThickness = [int(n) for n in d[12][0].split()]\n",
    "\n",
    "# - line 14\n",
    "zoomDesc = d[13][1]"
   ]
  },
  {
   "cell_type": "code",
   "execution_count": 4,
   "metadata": {},
   "outputs": [
    {
     "data": {
      "text/plain": [
       "(1, 0)"
      ]
     },
     "execution_count": 4,
     "metadata": {},
     "output_type": "execute_result"
    }
   ],
   "source": [
    "refractiveIndex, partThickness"
   ]
  }
 ],
 "metadata": {
  "kernelspec": {
   "display_name": "GravWaves",
   "language": "python",
   "name": "gravwaves"
  },
  "language_info": {
   "codemirror_mode": {
    "name": "ipython",
    "version": 3
   },
   "file_extension": ".py",
   "mimetype": "text/x-python",
   "name": "python",
   "nbconvert_exporter": "python",
   "pygments_lexer": "ipython3",
   "version": "3.6.8"
  }
 },
 "nbformat": 4,
 "nbformat_minor": 4
}
