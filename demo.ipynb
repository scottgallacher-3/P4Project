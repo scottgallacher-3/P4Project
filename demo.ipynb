{
 "cells": [
  {
   "cell_type": "markdown",
   "id": "80128e3a",
   "metadata": {},
   "source": [
    "<!-- # Tutorial - Processing and Analysis of Zygo Surface Maps -->\n",
    "## Demo - `ZygoMap` objects and how to use them\n",
    "\n",
    "### Background\n",
    "\n",
    "There are many scientific and engineering applications in which the thickness of bonds between two component's surfaces is an important factor. Particularly, this is highly relevant in designing Gravitational Wave detectors, where very small signals have to be differentiated from background noise sources - of which the bonds are major contributors. In fact, when building detectors a maximum peak-to-valley height of 60 nanometres is targeted for bonds between affixed components.\n",
    "\n",
    "(See: `Cumming, A.V. et al. Classical and Quantum Gravity,\n",
    "vol. 29/no. 3, (2012), pp. 035003.` https://doi.org/10.1088/0264-9381/29/3/035003)\n",
    "\n",
    "The `Zygo` interferometer is a tool can be used to perform measurements of component surfaces. Along with proprietary software `MetroPro`, the maps of measurement data can be taken and stored in files for analysis.\n",
    "\n",
    "This demo shows tools that have been implemented in Python to work with these output files, so that they can be analysed without requiring `MetroPro`. We can create and operate on them these maps using the `<ZygoMap>` class, simulate and compare their bonds using `combinemaps()` and `comparebonds()` functions. These are accessible via the `mapcompare.py` module.\n",
    "\n",
    "## Let's Begin!\n",
    "#### Imports"
   ]
  },
  {
   "cell_type": "code",
   "execution_count": 1,
   "id": "46d4408d",
   "metadata": {},
   "outputs": [],
   "source": [
    "import matplotlib.pyplot as plt  # - plotting\n",
    "import numpy as np  # - numpy arrays and variety of numerical manipulation\n",
    "import pandas as pd  # - store data in frames for simple presentation\n",
    "import scipy.ndimage  # - image/array rotation example\n",
    "\n",
    "#set backend to allow interactive plotting\n",
    "%matplotlib notebook\n",
    "\n",
    "#import the ZygoMap class, and the combinemaps and comparebonds functions\n",
    "from mapcompare import ZygoMap, combinemaps, comparebonds"
   ]
  },
  {
   "cell_type": "markdown",
   "id": "02517312",
   "metadata": {},
   "source": [
    "### Example Workflow / Getting Started\n",
    "\n",
    "To begin with, we need to provide and set up the data sources which we'd like to analyse.\n",
    "\n",
    "`ZygoMap` objects are designed to work with specifically-formatted text files produced with `MetroPro` measurement software.\n",
    "Information on the software and relevant formatting of files can be found in `MetroPro Reference Guide, Section 12, pgs 12-17`\n",
    "\n",
    "(See: https://www.seas.upenn.edu/~nanosop/documents/MetroProReferenceGuide0347_M.pdf)\n",
    "\n",
    "Six example files are provided locally in the `Zygo_textfiles` folder: `'A1.txt', 'A2.txt', 'C1.txt', 'C2.txt', 'M1.txt', and 'M2.txt'`.\n",
    "\n",
    "Passing each filename into the ZygoMap class will process the data and create a map object to store the information and represent the surface measurements from the file as a 2D `numpy` array.\n",
    "\n",
    "As we have multiple files to deal with, we can loop through and store all maps inside one list called `'zmaps'`. This will make it easier to maintain the maps, and to handle batch processing on all maps."
   ]
  },
  {
   "cell_type": "code",
   "execution_count": 2,
   "id": "c04e461b",
   "metadata": {},
   "outputs": [
    {
     "data": {
      "text/plain": [
       "[<mapobject.ZygoMap at 0x2431b0f8340>,\n",
       " <mapobject.ZygoMap at 0x24337d168e0>,\n",
       " <mapobject.ZygoMap at 0x24337d251f0>,\n",
       " <mapobject.ZygoMap at 0x24337d25340>,\n",
       " <mapobject.ZygoMap at 0x24337d25100>,\n",
       " <mapobject.ZygoMap at 0x24337d25a00>]"
      ]
     },
     "execution_count": 2,
     "metadata": {},
     "output_type": "execute_result"
    }
   ],
   "source": [
    "#6 example files stored in \"Zygo_textfiles\" folder:\n",
    "file_path = \"Zygo_textfiles/\"\n",
    "zfiles = [\"A1.txt\",\"A2.txt\",\"C1.txt\",\"C2.txt\",\"M1.txt\",\"M2.txt\"]\n",
    "\n",
    "#create a list to contain the maps\n",
    "zmaps = []\n",
    "for filename in zfiles:\n",
    "    zmap = ZygoMap(file_path + \"/\" + filename)\n",
    "    zmaps.append(zmap)\n",
    "    \n",
    "zmaps"
   ]
  },
  {
   "cell_type": "markdown",
   "id": "93a2d7fe",
   "metadata": {},
   "source": [
    "Now the maps can all be kept in one container - however, there isn't an obvious way to identify the maps as shown above.\n",
    "\n",
    "For this reason, each map is given its own `mapname` attribute so they can be identified. Users may set their own names when creating the object by supplying `mapname` as an argument; otherwise a default name is set - here, it is the stem of the filename without the `.txt` extension."
   ]
  },
  {
   "cell_type": "code",
   "execution_count": null,
   "id": "3eef8f25",
   "metadata": {},
   "outputs": [],
   "source": [
    "#full filenames can be awkward to ID each map,\n",
    "#so the file's stem is taken as an easy identifier via the \"mapname\" attribute\n",
    "[(m.filename, m.mapname) for m in zmaps]"
   ]
  },
  {
   "cell_type": "markdown",
   "id": "2d1fdf9b",
   "metadata": {},
   "source": [
    "Using the `zmaps` list is simplest, however we can only pick out a map by its positional index in the list - e.g. `zmaps[0]` for the first map `A1`.\n",
    "\n",
    "For this reason, it is helpful to construct a dictionary that links the mapnames to the maps:"
   ]
  },
  {
   "cell_type": "code",
   "execution_count": null,
   "id": "81c0216e",
   "metadata": {},
   "outputs": [],
   "source": [
    "#selecting maps can be made easier if we use a dictionary instead of a list\n",
    "#clearly linking each map with its mapname\n",
    "zmd = {m.mapname: m for m in zmaps}\n",
    "zmd"
   ]
  },
  {
   "cell_type": "markdown",
   "id": "c6d3feb0",
   "metadata": {},
   "source": [
    "Now, selecting a map can be done explicitly and clearly:"
   ]
  },
  {
   "cell_type": "code",
   "execution_count": null,
   "id": "6321ba5a",
   "metadata": {},
   "outputs": [],
   "source": [
    "zmd[\"A1\"]"
   ]
  },
  {
   "cell_type": "markdown",
   "id": "a5e2da09",
   "metadata": {},
   "source": [
    "### Viewing Surface Maps & Properties\n",
    "\n",
    "With the data successfully read in and stored, let's begin by understanding the properties each map has, and how they can be worked with.\n",
    "\n",
    "We can examine or operate on the map objects with a few techniques:\n",
    "\n",
    "<!-- #### print(`<ZygoMap>`) -->\n",
    "#### Printing\n",
    "\n",
    "Calling the Python `print()` function on a ZygoMap object outputs a simple description, giving the map's name, origin, as well as the two key metrics of the surface height values: the 'peak-to-valley' height, and the 'RMS' or 'root-mean-square' height."
   ]
  },
  {
   "cell_type": "code",
   "execution_count": null,
   "id": "d0c4c746",
   "metadata": {},
   "outputs": [],
   "source": [
    "#objects can be accessed with the name explicitly\n",
    "#using print() we can obtain a simple description of the map\n",
    "#this will tell us about the name and origin of the map (e.g. from file)\n",
    "#and summarise the key metrics describing the map's surface\n",
    "print(zmd[\"M1\"])"
   ]
  },
  {
   "cell_type": "markdown",
   "id": "a11fa614",
   "metadata": {},
   "source": [
    "#### Plotting\n",
    "\n",
    "The main way of gaining an understanding of the map is through plotting the surface heights, so we can picture all the data at once.\n",
    "\n",
    "`<ZygoMap>` comes with a built-in `plot()` method, that allows 2D (default) or 3D representation of the height data."
   ]
  },
  {
   "cell_type": "code",
   "execution_count": null,
   "id": "1c6a942c",
   "metadata": {},
   "outputs": [],
   "source": [
    "#let's initially examine the surface profile with a 2D plot of surface heights\n",
    "zmd[\"C2\"].plot()"
   ]
  },
  {
   "cell_type": "markdown",
   "id": "98b83d28",
   "metadata": {},
   "source": [
    "Looking at the plot for `C2`, we can uncover some unexpected effects of this map. We see that most of the data appears to have very little variation, except for a small number of edge pixels.\n",
    "\n",
    "A 3D plot could be helpful to illuminate the situation:"
   ]
  },
  {
   "cell_type": "code",
   "execution_count": null,
   "id": "462cad6a",
   "metadata": {},
   "outputs": [],
   "source": [
    "zmd[\"C2\"].plot(\"3d\")"
   ]
  },
  {
   "cell_type": "markdown",
   "id": "7f611ada",
   "metadata": {},
   "source": [
    "The 3D plot clearly shows that `C2` is subject to large edge defects - the edge points are heavily dominating the majority of the data, and unbalance the scale so that we can't see the variation in the data.\n",
    "\n",
    "Since these discontinuities appear only at the very edges, it is likely that these are diffraction effects that can arise during the measurement process (the `MetroPro` manual mentions this possibility). We can reasonably expect that the edge measurements are not representative of the true surface profile.\n",
    "\n",
    "To gain a more informative representation of the surface, we need to consider removing the bad data. \n",
    "\n",
    "`ZygoMap` allows us to crop maps via the `crop()` method."
   ]
  },
  {
   "cell_type": "markdown",
   "id": "9dee2aaf",
   "metadata": {},
   "source": [
    "#### Cropping\n",
    "\n",
    "Applying a crop to a map is a crucial step in the analysis, as it ensures we avoid results which are biased by bad data points, like in the case of `C2`.\n",
    "\n",
    "We can use the `crop()` method of `<ZygoMap>` to define a chosen radius to crop the data to. We can give an exact radius from the centre as a positive number, or specify a relative trim inwards from the edge using a negative value.\n",
    "\n",
    "Let's apply this to `C2` and see the difference from cropping:"
   ]
  },
  {
   "cell_type": "code",
   "execution_count": null,
   "id": "977c39ad",
   "metadata": {},
   "outputs": [],
   "source": [
    "#cropping to radius 28 excludes the right-hand discontinuities\n",
    "#as the original map had a radius of 35, a trim of 7 pixels gives a crop to radius 28\n",
    "zmd[\"C2\"].crop(-7).plot(\"3d\")"
   ]
  },
  {
   "cell_type": "code",
   "execution_count": null,
   "id": "3cb497c4",
   "metadata": {},
   "outputs": [],
   "source": [
    "zmd[\"C2\"].plot()"
   ]
  },
  {
   "cell_type": "markdown",
   "id": "08709e6a",
   "metadata": {},
   "source": [
    "This is a much better picture now, as we can see clear variation where we didn't before.\n",
    "\n",
    "Additionally, the peak-to-valley height has reduced from 280.3 nanometres to just 28.5 nanometres with only a small crop amount applied."
   ]
  },
  {
   "cell_type": "markdown",
   "id": "93b2a60c",
   "metadata": {},
   "source": [
    "##### Important Note:\n",
    "The application of `crop()` method does modify the state of the map object. It also returns the object, which allows us to chain commands, such as `<ZygoMap>.crop().plot()`. This choice makes quick analysis and experimentation with different values much easier to type, which is something that we want to be able to do.\n",
    "\n",
    "As such, it is left to the user to keep track of the current state of their maps. \n",
    "\n",
    "We can check the current state by calling `print()` as before, which will tell us if the map is currently cropped and to what radius:"
   ]
  },
  {
   "cell_type": "code",
   "execution_count": null,
   "id": "36a2b8a9",
   "metadata": {},
   "outputs": [],
   "source": [
    "print(zmd[\"C2\"])"
   ]
  },
  {
   "cell_type": "markdown",
   "id": "59a8ea89",
   "metadata": {},
   "source": [
    "Additional attributes are also available to be checked: the `is_cropped` flag is the simplest indicator; also, `r0` stores the original, uncropped radius as read-in, and `radius` tells us the current radius.\n",
    "\n",
    "Luckily, it is very easy to return to the original state by simply calling `crop()` with no arguments. This will \"reset\" the map."
   ]
  },
  {
   "cell_type": "code",
   "execution_count": null,
   "id": "91ca1167",
   "metadata": {},
   "outputs": [],
   "source": [
    "#the effect of crop() modifies the map's state\n",
    "#so it is important to keep track of the current map size\n",
    "#using \"is_cropped\" attribute,\n",
    "#or by comparing if \"radius\" is equal to uncropped radius \"r0\"\n",
    "\n",
    "#with crop of radius 20\n",
    "zmd[\"C2\"].crop(20)\n",
    "print(\"Crop Applied:\\n\")\n",
    "print(\"is_cropped: \", zmd[\"C2\"].is_cropped)\n",
    "print(\"r0 =\", zmd[\"C2\"].r0)\n",
    "print(\"radius =\", zmd[\"C2\"].radius)\n",
    "print(\"\\n\")\n",
    "\n",
    "#reset the crop\n",
    "zmd[\"C2\"].crop()\n",
    "print(\"No cropping:\\n\")\n",
    "print(\"is_cropped: \", zmd[\"C2\"].is_cropped)\n",
    "print(\"r0 =\", zmd[\"C2\"].r0)\n",
    "print(\"radius =\", zmd[\"C2\"].radius)"
   ]
  },
  {
   "cell_type": "markdown",
   "id": "9cafd8cf",
   "metadata": {},
   "source": [
    "#### Interpolating / Grid-Scaling\n",
    "\n",
    "Another functionality of `<ZygoMap>` is to interpolate the data over the grid defined by the array positions. This is useful to fill in points which may be missing values in the original data. Interpolation of values is performed upon reading in the data and before any other processing (cropping, tilt-removal) is applied."
   ]
  },
  {
   "cell_type": "code",
   "execution_count": null,
   "id": "c6ac6504",
   "metadata": {},
   "outputs": [],
   "source": [
    "#the effect of interpolating to fill in missing data\n",
    "#initial data stored in \"heights0\" attribute\n",
    "#interpolated data stored in \"heights1\"\n",
    "#main, updating data is stored in \"heights\"\n",
    "fig, ax = plt.subplots(1,2, figsize=(6,3))\n",
    "ax[0].imshow(zmd[\"A1\"].heights0)\n",
    "ax[1].imshow(zmd[\"A1\"].heights1)\n",
    "ax[0].set_title(\"Original Surface Data for 'A1'\", fontsize=9)\n",
    "ax[1].set_title(\"Interpolated Surface Data for 'A1'\", fontsize=9)\n",
    "plt.show()"
   ]
  },
  {
   "cell_type": "markdown",
   "id": "abd52c44",
   "metadata": {},
   "source": [
    "We can also use the same interpolation technique to re-fit the data to a new grid. If we supply a more dense grid, we can thus obtain a higher resolution upscaled copy of a map's `heights` array. The `interpolate_grid()` method of `<ZygoMap>` allows arguments `x_step` and `y_step` to define a new grid of points which the values are then fitted to.\n",
    "\n",
    "##### Important Note:\n",
    "Spatial changes in the grid would likely cause conflict/confusion with other properties of original data as read in. For this reason, in contrast to `crop`, `interpolate_grid` will not modify the `<ZygoMap>` object, but instead just return the new grid of values as an array.\n",
    "\n",
    "It is suggested to create a new map manually for the upscaled data if the user wants to proceed with analysis on the higher-resolution data. Luckily, creating a new map in this way is fairly simple:"
   ]
  },
  {
   "cell_type": "code",
   "execution_count": null,
   "id": "06a32902",
   "metadata": {},
   "outputs": [],
   "source": [
    "#heights interpolated with finer grid and stored in \"C2_fine_grid\"\n",
    "C2_fine_grid = zmd[\"C2\"].interpolate_grid(x_step=0.25, y_step=0.25)  # - returns array\n",
    "\n",
    "#add the new object to storage dictionary/list while we're creating it\n",
    "#as the array has no name data to use, we should provide a distinct mapname\n",
    "new_name = \"C2_upscaled\"\n",
    "zmd[new_name] = ZygoMap(array=C2_fine_grid, mapname=new_name)\n",
    "zmaps.append(zmd[new_name])"
   ]
  },
  {
   "cell_type": "markdown",
   "id": "1b578750",
   "metadata": {},
   "source": [
    "In the interests of preserving data, the interpolated grid runs on the original, uncropped data by default. This means we should now specify a new crop for the upscaled data. \n",
    "\n",
    "Actually, this is something we should want to do anyway - the increase in resolution will allow more precision when finding a good crop radius."
   ]
  },
  {
   "cell_type": "code",
   "execution_count": null,
   "id": "773f3d91",
   "metadata": {},
   "outputs": [],
   "source": [
    "#use the full array, and re-adjust the crop now that we can be more precise\n",
    "#reducing the edges by a trim of 30 pixels inwards gives similar profile\n",
    "#now we have a smoother picture of the surface variation\n",
    "#NOTE: it is not advisable to use interactive 3d plots with highly-upscaled maps\n",
    "zmd[\"C2_upscaled\"].crop(-30).plot(\"2d\")"
   ]
  },
  {
   "cell_type": "code",
   "execution_count": null,
   "id": "c03ad49e",
   "metadata": {},
   "outputs": [],
   "source": [
    "print(zmd[\"C2_upscaled\"])"
   ]
  },
  {
   "cell_type": "markdown",
   "id": "a688bdbc",
   "metadata": {},
   "source": [
    "Great! Now we have a smoother picture of the surface variation."
   ]
  },
  {
   "cell_type": "markdown",
   "id": "1c5d78b9",
   "metadata": {},
   "source": [
    "### Simulating Bonded Surfaces - Combining Maps\n",
    "\n",
    "Ultimately, the goal of our analysis is not just to inspect the surface maps but to inspect the bonds between maps when they are combined. We have been able to store multiple maps and view their surface profiles, and now we need a way to simulate their bonds.\n",
    "\n",
    "Additional functions `combinemaps()` and `comparebonds()` will allow us to combine pairs of our stored `<ZygoMap>` objects and construct a new surface map of the bond interface between the two surfaces."
   ]
  },
  {
   "cell_type": "markdown",
   "id": "6e429f20",
   "metadata": {},
   "source": [
    "#### `combinemaps` Function\n",
    "\n",
    "How do we go from separate maps of surfaces to a map of two bonded surfaces?\n",
    "\n",
    "The bonds can be simulated by taking one map as the lower map and the other as the upper map. If the upper map is flipped downward, and its values negated, then this now emulates the relative orientations of the surfaces as they would physically be brought into contact to form a bond. The height gap between the surfaces when they first contact defines the interface which we are mapping.\n",
    "\n",
    "In `combinemaps()`, the `heights` arrays can be added directly after flipping and negating the upper map. Any negative result is added back as an offset so that the surfaces are not intersecting in a non-physical manner.\n",
    "\n",
    "The below figure illustrates the bonding process:\n",
    "\n",
    "#### Visual example: Bonding Two Surfaces\n",
    "<!-- ![Bonding Two Surfaces: Before](interface_before.png) -->\n",
    "Before - Maps stored in original orientation | After - Upper map flipped downward. Faces brought into contact.\n",
    ":- | :- \n",
    "![alt](interface_before.png) | ![alt](interface_after.png)"
   ]
  },
  {
   "cell_type": "markdown",
   "id": "62ea4a4a",
   "metadata": {},
   "source": [
    "Using `combinemaps()`, we can supply a pair of maps whose bond we want to model, and the function will automatically create the interface as a `<ZygoMap>` object. Additionally, optimisation is performed for in-plane rotations of the upper map with respect to the lower map. The relative alignment of the two faces may be very infuential on the final bond parameters.\n",
    "\n",
    "This concept is demonstrated by the below comparison for orientations of `'A1'`:"
   ]
  },
  {
   "cell_type": "code",
   "execution_count": null,
   "id": "ed4de95c",
   "metadata": {},
   "outputs": [],
   "source": [
    "#clear visual example of the z-axis rotations used in combinemaps\n",
    "#using \"A1\", with its distinct features,\n",
    "C1_rot = scipy.ndimage.rotate(zmd[\"A1\"].crop().heights, 45, order=0, reshape=False, mode=\"constant\", cval=np.nan)\n",
    "\n",
    "fig, ax = plt.subplots(1,2, figsize=(7,3))\n",
    "ax[0].imshow(zmd[\"A1\"].heights)\n",
    "ax[1].imshow(C1_rot)\n",
    "\n",
    "ax[0].set_title(\"ZygoMap 'A1'\\n(Standard Orientation as read in)\", fontsize=9)\n",
    "ax[1].set_title(\"ZygoMap 'A1'\\n(Rotated in-plane by 45 degrees anticlockwise)\", fontsize=9)\n",
    "plt.show()"
   ]
  },
  {
   "cell_type": "markdown",
   "id": "c9f4afef",
   "metadata": {},
   "source": [
    "It is clear that the orientation of the map could greatly affect the final peak-to-valley height of bond, such as maps being combined so that their peaks meet (a very unoptimised result).\n",
    "\n",
    "So, `combinemaps` is also able to find the optimal rotation angle so that the peak-to-valley height can be minimised for the bond."
   ]
  },
  {
   "cell_type": "markdown",
   "id": "e5b22493",
   "metadata": {},
   "source": [
    "#### Interface / Bond Maps\n",
    "\n",
    "Let's use `combinemaps` to create the optimised bond between `'C1'` and `'C2'`. The option is available to provide a custom `mapname` for the new map - this may be passed with the `newname` argument. Otherwise, `combinemaps` will default to merging the supplied map's names, joined with a \"+\".\n",
    "\n",
    "A message will be printed out to show clearly the operation and results from `combinemaps` (this can be turned off with `output=False`)."
   ]
  },
  {
   "cell_type": "code",
   "execution_count": null,
   "id": "b809b768",
   "metadata": {},
   "outputs": [],
   "source": [
    "#prepare maps with chosen crops\n",
    "zmd[\"C1\"].crop(32)\n",
    "zmd[\"C2\"].crop(28)\n",
    "\n",
    "#combine the maps\n",
    "iface = combinemaps(zmd[\"C2\"], zmd[\"C1\"], newname=None)"
   ]
  },
  {
   "cell_type": "markdown",
   "id": "399e3372",
   "metadata": {},
   "source": [
    "Good, the maps were combined to produce a new map. `combinemaps` returned a `<ZygoMap>` object called `'C1+C2'`, which is optimised when `'C1'` is rotated in-plane by 111$^{\\circ}$, which gives a simulated peak-to-valley height of 46.7 nm.\n",
    "\n",
    "We can inspect the interface map in the same way as individual maps. First, let's view a plot of the interface heights."
   ]
  },
  {
   "cell_type": "code",
   "execution_count": null,
   "id": "5a960ea7",
   "metadata": {},
   "outputs": [],
   "source": [
    "#inspect the profile of the interface\n",
    "#the heights representing the gaps between the surfaces at the bond\n",
    "iface.plot(\"3d\")"
   ]
  },
  {
   "cell_type": "markdown",
   "id": "4ba401cb",
   "metadata": {},
   "source": [
    "The properties of interface maps are specified to show that the map represents a combination of maps rather than a single map. For example, `print()` will now reflect the creation from two other maps:"
   ]
  },
  {
   "cell_type": "code",
   "execution_count": null,
   "id": "d427a2e7",
   "metadata": {},
   "outputs": [],
   "source": [
    "#in contrast to the maps produced directly from files, we can see how this map was made from the combination of \"C2\" and \"C1\"\n",
    "print(iface)"
   ]
  },
  {
   "cell_type": "markdown",
   "id": "ebcd3f08",
   "metadata": {},
   "source": [
    "We can operate on the interface map just as we could with the individual maps, however we may want to revisit or make reference to the constituent maps and explore these further. References to the maps are stored in `map1` and `map2` attributes and, for simplicity, both can be accessed at once through the attribute `maps`."
   ]
  },
  {
   "cell_type": "code",
   "execution_count": null,
   "id": "f7a4a5a1",
   "metadata": {},
   "outputs": [],
   "source": [
    "#references to original maps are stored in the attributes \"map1\" and \"map2\"\n",
    "#or, for ease-of-access, as a tuple (map1, map2) in the \"maps\" attribute\n",
    "print((iface.map1.mapname, iface.map2.mapname))\n",
    "iface.maps"
   ]
  },
  {
   "cell_type": "markdown",
   "id": "e801d291",
   "metadata": {},
   "source": [
    "### Auto-comparison of simulated bonds\n",
    "\n",
    "With multiple measured surfaces stored as `ZygoMap` objects, there are a large number of possible combinations if we want to study all possible bonds. For just the 6 example maps we are using, that already gives 15 possible pairs. Analysis will quickly become impractical if the user is expected to attend to creation and analysis of each map manually.\n",
    "\n",
    "For comparison of bonds, we can run our maps through the `comparebonds()` function, which will find the possible combinations and create interface maps for each pair of maps. Each bond will be compared and sorted according to the lowest value of peak-to-valley, and all the maps are returned via a `pandas` `DataFrame` object which also contains the names of the constituent maps and the PV and RMS key metrics. We are then free to store the dataframe and the bond maps for any further use. We can also ask `comparebonds` to show plots of each bond's PV and RMS measurements - one sorted by smallest PV and another sorted in order of smallest RMS (turn on with `plot=True` option)."
   ]
  },
  {
   "cell_type": "code",
   "execution_count": null,
   "id": "85b19226",
   "metadata": {},
   "outputs": [],
   "source": [
    "#need to supply a list/tuple/dict containing ZygoMap objects\n",
    "\n",
    "#reset the dict to our original maps\n",
    "zmd = {m.mapname: m for m in zmaps[:6]}\n",
    "\n",
    "#pass in the dictionary (list or tuple also usable)\n",
    "#store the output in a variable \"sorted_bonds\" for further access\n",
    "sorted_bonds = comparebonds(zmd)"
   ]
  },
  {
   "cell_type": "markdown",
   "id": "5201e920",
   "metadata": {},
   "source": [
    "The 15 map combinations are returned as a dataframe from `comparebonds`. We should store this in `sorted_bonds` in case we need to access the data beyond this comparison. The interface/bond maps are accessible from the `'Bond Map'` column."
   ]
  },
  {
   "cell_type": "code",
   "execution_count": null,
   "id": "d2e02380",
   "metadata": {},
   "outputs": [],
   "source": [
    "sorted_bonds"
   ]
  },
  {
   "cell_type": "code",
   "execution_count": null,
   "id": "063db4a6",
   "metadata": {},
   "outputs": [],
   "source": [
    "#extract all interface/bond maps\n",
    "sorted_bonds[\"Bond Map\"].values"
   ]
  },
  {
   "cell_type": "code",
   "execution_count": null,
   "id": "5098026d",
   "metadata": {},
   "outputs": [],
   "source": [
    "#sorted by RMS height measurement rather than PV\n",
    "sorted_bonds.sort_values(by=\"RMS\")"
   ]
  },
  {
   "cell_type": "markdown",
   "id": "aedf30ae",
   "metadata": {},
   "source": [
    "Looking at the results, the bond between `'C1'` and `'M1'` gives the best results in terms of both PV and RMS metrics. Let's take a closer look at this bond."
   ]
  },
  {
   "cell_type": "code",
   "execution_count": null,
   "id": "79c3f3e6",
   "metadata": {},
   "outputs": [],
   "source": [
    "#access specific rows with .iloc[index]\n",
    "best_bond = sorted_bonds.iloc[0][\"Bond Map\"]\n",
    "print(best_bond)"
   ]
  },
  {
   "cell_type": "code",
   "execution_count": null,
   "id": "e24e8563",
   "metadata": {},
   "outputs": [],
   "source": [
    "best_bond.plot(\"3d\")"
   ]
  },
  {
   "cell_type": "markdown",
   "id": "bf4e1b41",
   "metadata": {},
   "source": [
    "Our simulation of the bond has estimated a peak-to-valley height of 25.6 nm and RMS variation of 3.8 nm, when combining the maps at their optimal angle of 19.5$^\\circ$.\n",
    "\n",
    "However, it isn't immediately obvious how good or bad these measurements are without additional context. Plotting all the values should make clear where each bond performs compared to the rest. We could use the inbuilt plotting of `pandas` on the `sorted_bonds` frame, or return to `comparebonds` which has its own plotting style to highlight the 60 nanometre upper limit which is targeted in Gravitational Wave detector application (which was the initial motivation to compare bonds). \n",
    "\n",
    "(See: `Cumming, A.V. et al. Classical and Quantum Gravity,\n",
    "vol. 29/no. 3, (2012), pp. 035003.` https://doi.org/10.1088/0264-9381/29/3/035003)."
   ]
  },
  {
   "cell_type": "code",
   "execution_count": null,
   "id": "c27578e4",
   "metadata": {},
   "outputs": [],
   "source": [
    "#if we wanted a simple visual comparison, set plot=True in comparebonds\n",
    "#line at 60 nanometres highlights the upper limit for targeted peak-to-valley heights in Gravitational Wave detectors\n",
    "#we can quickly pick out suitable map combinations\n",
    "comparebonds(zmd, plot=True);"
   ]
  },
  {
   "cell_type": "markdown",
   "id": "f8a5c2e9",
   "metadata": {},
   "source": [
    "### The End ?\n",
    "\n",
    "Great! Our work **can** be considered done.\n",
    "\n",
    "However, we must be wary of taking the results at face value. As seen before, the effects of cropping can drastically change how the surface profiles appear. Thus, the state of each map will influence the final results. We should ensure that we are totally happy with our removal of defects and have cropped maps suitably before commencing bond comparisons.\n",
    "\n",
    "An initial comparison using the uncropped base maps could be a helpful starting point to quickly determine which maps are outliers and likely need to be cropped. We can set up some simple automation to view how PV and RMS values change as the level of cropping increases:"
   ]
  },
  {
   "cell_type": "code",
   "execution_count": null,
   "id": "9f1db1f0",
   "metadata": {},
   "outputs": [],
   "source": [
    "#example of changing crop amount and subsequent effects\n",
    "m = zmd[\"C2\"]\n",
    "\n",
    "#create a range of trim amounts (distance inward from edges)\n",
    "#from no crop (0) to 24 pixels inward\n",
    "trim_sizes = np.arange(0, -25, -1)\n",
    "\n",
    "#storage for key metrics\n",
    "pvValues = []\n",
    "rmsValues = []\n",
    "\n",
    "#apply crops and take measurements\n",
    "for r in trim_sizes:\n",
    "    cropped_z = m.crop(r)\n",
    "    pvValues.append(cropped_z.peakvalley * 1e9)\n",
    "    rmsValues.append(cropped_z.rms * 1e9)\n",
    "\n",
    "m.crop() # - reset crop after"
   ]
  },
  {
   "cell_type": "code",
   "execution_count": null,
   "id": "a95b3d2d",
   "metadata": {},
   "outputs": [],
   "source": [
    "#create plot so we can see the values as cropping increases\n",
    "plt.figure(figsize=(8,5))\n",
    "plt.plot(abs(trim_sizes), pvValues, \"ro--\", label=\"Peak-valley\")\n",
    "plt.plot(abs(trim_sizes), rmsValues, \"bo--\", label=\"RMS\")\n",
    "\n",
    "plt.axvline(3, linestyle=\"dotted\")\n",
    "plt.axvline(8, linestyle=\"dotted\")\n",
    "plt.fill_between(x=range(3,9), y1=300, alpha=0.2)\n",
    "plt.ylim(0, 300)\n",
    "\n",
    "plt.yticks(np.arange(0, pvValues[0]+10,10))\n",
    "plt.xticks(abs(trim_sizes))\n",
    "plt.ticklabel_format(axis=\"y\")\n",
    "\n",
    "plt.xlabel(\"Size of radial trim inwards from edges (pixels)\")\n",
    "plt.ylabel(\"Surface Height (nm)\")\n",
    "plt.legend()\n",
    "plt.grid()\n",
    "\n",
    "plt.title(\"Effect of crop/trim size on surface measurements for ZygoMap '{}'\".format(m.mapname))\n",
    "plt.show()"
   ]
  },
  {
   "cell_type": "markdown",
   "id": "4d5b16f8",
   "metadata": {},
   "source": [
    "The plot makes it clear that the majority of the reduction comes in the first few pixels - after that point we should have stable performance without edge defects. Thus, it suggests we should look for a crop amount of at least 3.\n",
    "\n",
    "Looking at the values following a sharp gradient is our indicator of possible edge defects and where we should crop to remove them. We could supplement this by viewing the plots again if felt necessary - examination of `'C2'` seemed to suggest a trim of 8 edge pixels."
   ]
  }
 ],
 "metadata": {
  "kernelspec": {
   "display_name": "Python 3",
   "language": "python",
   "name": "python3"
  },
  "language_info": {
   "codemirror_mode": {
    "name": "ipython",
    "version": 3
   },
   "file_extension": ".py",
   "mimetype": "text/x-python",
   "name": "python",
   "nbconvert_exporter": "python",
   "pygments_lexer": "ipython3",
   "version": "3.8.8"
  }
 },
 "nbformat": 4,
 "nbformat_minor": 5
}
